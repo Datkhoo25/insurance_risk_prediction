{
  "cells": [
    {
      "cell_type": "markdown",
      "metadata": {
        "id": "view-in-github",
        "colab_type": "text"
      },
      "source": [
        "<a href=\"https://colab.research.google.com/github/Datkhoo25/insurance_risk_prediction/blob/main/6_RFE_DT_Sim_Impute.ipynb\" target=\"_parent\"><img src=\"https://colab.research.google.com/assets/colab-badge.svg\" alt=\"Open In Colab\"/></a>"
      ]
    },
    {
      "cell_type": "code",
      "execution_count": null,
      "metadata": {
        "id": "69OhFAnVx55a",
        "colab": {
          "base_uri": "https://localhost:8080/"
        },
        "outputId": "7a7cd231-a26e-43fa-cd67-f076b306f6d8"
      },
      "outputs": [
        {
          "output_type": "stream",
          "name": "stdout",
          "text": [
            "Mounted at /content/drive\n"
          ]
        }
      ],
      "source": [
        "from google.colab import drive\n",
        "drive.mount('/content/drive', timeout_ms=300000)"
      ]
    },
    {
      "cell_type": "code",
      "execution_count": null,
      "metadata": {
        "id": "1r183ZGTona4"
      },
      "outputs": [],
      "source": [
        "import pandas as pd\n",
        "import numpy as np\n",
        "import openpyxl\n",
        "from scipy.stats import randint, uniform\n",
        "\n",
        "from scipy.optimize import fmin_powell\n",
        "from sklearn.preprocessing import LabelEncoder\n",
        "\n",
        "from sklearn.metrics import log_loss\n",
        "from sklearn.ensemble import RandomForestClassifier\n",
        "from sklearn.model_selection import RandomizedSearchCV\n",
        "from sklearn.model_selection import train_test_split\n",
        "from sklearn import ensemble\n",
        "from sklearn.ensemble import GradientBoostingClassifier\n",
        "from xgboost import XGBClassifier\n",
        "from sklearn.linear_model import LogisticRegression\n",
        "from sklearn.metrics import accuracy_score,  roc_auc_score, f1_score, precision_score, recall_score, classification_report, confusion_matrix, r2_score\n",
        "\n",
        "from imblearn.over_sampling import SMOTE\n",
        "from imblearn.pipeline import Pipeline"
      ]
    },
    {
      "cell_type": "code",
      "execution_count": null,
      "metadata": {
        "id": "--Fn2wsFa_EL",
        "colab": {
          "base_uri": "https://localhost:8080/"
        },
        "outputId": "760625ab-2bd1-4d88-8940-5e4192f83e6e"
      },
      "outputs": [
        {
          "output_type": "stream",
          "name": "stdout",
          "text": [
            "Requirement already satisfied: tensorflow in /usr/local/lib/python3.10/dist-packages (2.15.0)\n",
            "Requirement already satisfied: absl-py>=1.0.0 in /usr/local/lib/python3.10/dist-packages (from tensorflow) (1.4.0)\n",
            "Requirement already satisfied: astunparse>=1.6.0 in /usr/local/lib/python3.10/dist-packages (from tensorflow) (1.6.3)\n",
            "Requirement already satisfied: flatbuffers>=23.5.26 in /usr/local/lib/python3.10/dist-packages (from tensorflow) (24.3.25)\n",
            "Requirement already satisfied: gast!=0.5.0,!=0.5.1,!=0.5.2,>=0.2.1 in /usr/local/lib/python3.10/dist-packages (from tensorflow) (0.6.0)\n",
            "Requirement already satisfied: google-pasta>=0.1.1 in /usr/local/lib/python3.10/dist-packages (from tensorflow) (0.2.0)\n",
            "Requirement already satisfied: h5py>=2.9.0 in /usr/local/lib/python3.10/dist-packages (from tensorflow) (3.9.0)\n",
            "Requirement already satisfied: libclang>=13.0.0 in /usr/local/lib/python3.10/dist-packages (from tensorflow) (18.1.1)\n",
            "Requirement already satisfied: ml-dtypes~=0.2.0 in /usr/local/lib/python3.10/dist-packages (from tensorflow) (0.2.0)\n",
            "Requirement already satisfied: numpy<2.0.0,>=1.23.5 in /usr/local/lib/python3.10/dist-packages (from tensorflow) (1.25.2)\n",
            "Requirement already satisfied: opt-einsum>=2.3.2 in /usr/local/lib/python3.10/dist-packages (from tensorflow) (3.3.0)\n",
            "Requirement already satisfied: packaging in /usr/local/lib/python3.10/dist-packages (from tensorflow) (24.1)\n",
            "Requirement already satisfied: protobuf!=4.21.0,!=4.21.1,!=4.21.2,!=4.21.3,!=4.21.4,!=4.21.5,<5.0.0dev,>=3.20.3 in /usr/local/lib/python3.10/dist-packages (from tensorflow) (3.20.3)\n",
            "Requirement already satisfied: setuptools in /usr/local/lib/python3.10/dist-packages (from tensorflow) (71.0.4)\n",
            "Requirement already satisfied: six>=1.12.0 in /usr/local/lib/python3.10/dist-packages (from tensorflow) (1.16.0)\n",
            "Requirement already satisfied: termcolor>=1.1.0 in /usr/local/lib/python3.10/dist-packages (from tensorflow) (2.4.0)\n",
            "Requirement already satisfied: typing-extensions>=3.6.6 in /usr/local/lib/python3.10/dist-packages (from tensorflow) (4.12.2)\n",
            "Requirement already satisfied: wrapt<1.15,>=1.11.0 in /usr/local/lib/python3.10/dist-packages (from tensorflow) (1.14.1)\n",
            "Requirement already satisfied: tensorflow-io-gcs-filesystem>=0.23.1 in /usr/local/lib/python3.10/dist-packages (from tensorflow) (0.37.1)\n",
            "Requirement already satisfied: grpcio<2.0,>=1.24.3 in /usr/local/lib/python3.10/dist-packages (from tensorflow) (1.64.1)\n",
            "Requirement already satisfied: tensorboard<2.16,>=2.15 in /usr/local/lib/python3.10/dist-packages (from tensorflow) (2.15.2)\n",
            "Requirement already satisfied: tensorflow-estimator<2.16,>=2.15.0 in /usr/local/lib/python3.10/dist-packages (from tensorflow) (2.15.0)\n",
            "Requirement already satisfied: keras<2.16,>=2.15.0 in /usr/local/lib/python3.10/dist-packages (from tensorflow) (2.15.0)\n",
            "Requirement already satisfied: wheel<1.0,>=0.23.0 in /usr/local/lib/python3.10/dist-packages (from astunparse>=1.6.0->tensorflow) (0.43.0)\n",
            "Requirement already satisfied: google-auth<3,>=1.6.3 in /usr/local/lib/python3.10/dist-packages (from tensorboard<2.16,>=2.15->tensorflow) (2.27.0)\n",
            "Requirement already satisfied: google-auth-oauthlib<2,>=0.5 in /usr/local/lib/python3.10/dist-packages (from tensorboard<2.16,>=2.15->tensorflow) (1.2.1)\n",
            "Requirement already satisfied: markdown>=2.6.8 in /usr/local/lib/python3.10/dist-packages (from tensorboard<2.16,>=2.15->tensorflow) (3.6)\n",
            "Requirement already satisfied: requests<3,>=2.21.0 in /usr/local/lib/python3.10/dist-packages (from tensorboard<2.16,>=2.15->tensorflow) (2.31.0)\n",
            "Requirement already satisfied: tensorboard-data-server<0.8.0,>=0.7.0 in /usr/local/lib/python3.10/dist-packages (from tensorboard<2.16,>=2.15->tensorflow) (0.7.2)\n",
            "Requirement already satisfied: werkzeug>=1.0.1 in /usr/local/lib/python3.10/dist-packages (from tensorboard<2.16,>=2.15->tensorflow) (3.0.3)\n",
            "Requirement already satisfied: cachetools<6.0,>=2.0.0 in /usr/local/lib/python3.10/dist-packages (from google-auth<3,>=1.6.3->tensorboard<2.16,>=2.15->tensorflow) (5.4.0)\n",
            "Requirement already satisfied: pyasn1-modules>=0.2.1 in /usr/local/lib/python3.10/dist-packages (from google-auth<3,>=1.6.3->tensorboard<2.16,>=2.15->tensorflow) (0.4.0)\n",
            "Requirement already satisfied: rsa<5,>=3.1.4 in /usr/local/lib/python3.10/dist-packages (from google-auth<3,>=1.6.3->tensorboard<2.16,>=2.15->tensorflow) (4.9)\n",
            "Requirement already satisfied: requests-oauthlib>=0.7.0 in /usr/local/lib/python3.10/dist-packages (from google-auth-oauthlib<2,>=0.5->tensorboard<2.16,>=2.15->tensorflow) (1.3.1)\n",
            "Requirement already satisfied: charset-normalizer<4,>=2 in /usr/local/lib/python3.10/dist-packages (from requests<3,>=2.21.0->tensorboard<2.16,>=2.15->tensorflow) (3.3.2)\n",
            "Requirement already satisfied: idna<4,>=2.5 in /usr/local/lib/python3.10/dist-packages (from requests<3,>=2.21.0->tensorboard<2.16,>=2.15->tensorflow) (3.7)\n",
            "Requirement already satisfied: urllib3<3,>=1.21.1 in /usr/local/lib/python3.10/dist-packages (from requests<3,>=2.21.0->tensorboard<2.16,>=2.15->tensorflow) (2.0.7)\n",
            "Requirement already satisfied: certifi>=2017.4.17 in /usr/local/lib/python3.10/dist-packages (from requests<3,>=2.21.0->tensorboard<2.16,>=2.15->tensorflow) (2024.7.4)\n",
            "Requirement already satisfied: MarkupSafe>=2.1.1 in /usr/local/lib/python3.10/dist-packages (from werkzeug>=1.0.1->tensorboard<2.16,>=2.15->tensorflow) (2.1.5)\n",
            "Requirement already satisfied: pyasn1<0.7.0,>=0.4.6 in /usr/local/lib/python3.10/dist-packages (from pyasn1-modules>=0.2.1->google-auth<3,>=1.6.3->tensorboard<2.16,>=2.15->tensorflow) (0.6.0)\n",
            "Requirement already satisfied: oauthlib>=3.0.0 in /usr/local/lib/python3.10/dist-packages (from requests-oauthlib>=0.7.0->google-auth-oauthlib<2,>=0.5->tensorboard<2.16,>=2.15->tensorflow) (3.2.2)\n",
            "Requirement already satisfied: keras in /usr/local/lib/python3.10/dist-packages (2.15.0)\n"
          ]
        }
      ],
      "source": [
        "!pip install tensorflow\n",
        "!pip install keras"
      ]
    },
    {
      "cell_type": "code",
      "execution_count": null,
      "metadata": {
        "id": "tz_IeV32WKRc",
        "colab": {
          "base_uri": "https://localhost:8080/"
        },
        "outputId": "9250da17-12b5-4b3b-8777-6eda78d9019f"
      },
      "outputs": [
        {
          "output_type": "stream",
          "name": "stdout",
          "text": [
            "\u001b[?25l   \u001b[90m━━━━━━━━━━━━━━━━━━━━━━━━━━━━━━━━━━━━━━━━\u001b[0m \u001b[32m0.0/129.1 kB\u001b[0m \u001b[31m?\u001b[0m eta \u001b[36m-:--:--\u001b[0m\r\u001b[2K   \u001b[91m━━━━━━━━━\u001b[0m\u001b[91m╸\u001b[0m\u001b[90m━━━━━━━━━━━━━━━━━━━━━━━━━━━━━━\u001b[0m \u001b[32m30.7/129.1 kB\u001b[0m \u001b[31m629.1 kB/s\u001b[0m eta \u001b[36m0:00:01\u001b[0m\r\u001b[2K   \u001b[91m━━━━━━━━━━━━\u001b[0m\u001b[91m╸\u001b[0m\u001b[90m━━━━━━━━━━━━━━━━━━━━━━━━━━━\u001b[0m \u001b[32m41.0/129.1 kB\u001b[0m \u001b[31m763.3 kB/s\u001b[0m eta \u001b[36m0:00:01\u001b[0m\r\u001b[2K   \u001b[90m━━━━━━━━━━━━━━━━━━━━━━━━━━━━━━━━━━━━━━━━\u001b[0m \u001b[32m129.1/129.1 kB\u001b[0m \u001b[31m1.2 MB/s\u001b[0m eta \u001b[36m0:00:00\u001b[0m\n",
            "\u001b[?25h"
          ]
        },
        {
          "output_type": "stream",
          "name": "stderr",
          "text": [
            "<ipython-input-4-670abaa5fb26>:13: DeprecationWarning: `import kerastuner` is deprecated, please use `import keras_tuner`.\n",
            "  import kerastuner as kt\n"
          ]
        }
      ],
      "source": [
        "!pip install -q -U keras-tuner\n",
        "from tensorflow import keras\n",
        "from keras.models import Sequential\n",
        "from keras.layers import Dense, Dropout\n",
        "from keras.initializers import HeNormal, GlorotNormal, LecunNormal\n",
        "\n",
        "from keras import regularizers\n",
        "from keras.layers import Dropout\n",
        "from keras.losses import sparse_categorical_crossentropy\n",
        "from keras.optimizers import Adam, SGD\n",
        "\n",
        "\n",
        "import kerastuner as kt\n",
        "from kerastuner.tuners import RandomSearch\n",
        "from kerastuner import Objective\n",
        "\n",
        "from keras.callbacks import History\n",
        "from keras.callbacks import Callback, EarlyStopping\n",
        "from keras.metrics import Accuracy, Recall, Precision\n"
      ]
    },
    {
      "cell_type": "code",
      "execution_count": null,
      "metadata": {
        "id": "b0ukCAVRrNry",
        "colab": {
          "base_uri": "https://localhost:8080/"
        },
        "outputId": "047bfd4d-ed9f-4cc8-c56e-d0ce6c606d8e"
      },
      "outputs": [
        {
          "output_type": "stream",
          "name": "stdout",
          "text": [
            "\n",
            "Sheet: X_train_sim_imp_wNA_dt_rfe\n",
            "\n",
            "Sheet: X_val_sim_imp_wNA_dt_rfe\n",
            "\n",
            "Sheet: test_df_sim_imp_wNA_dt_rfe\n",
            "\n",
            "Sheet: y_train\n",
            "\n",
            "Sheet: y_val\n"
          ]
        }
      ],
      "source": [
        "# Specify the path to your Excel file\n",
        "workbook_path = '/content/drive/MyDrive/Colab Notebooks/Insurance Dataset/Preprocessing_Checkpoint/Sim_Impute_wNA_dt_rfe.xlsx'\n",
        "\n",
        "# Load the workbook\n",
        "wb = openpyxl.load_workbook(workbook_path)\n",
        "\n",
        "# Get sheet names\n",
        "sheet_names = wb.sheetnames\n",
        "\n",
        "# Container for DataFrames\n",
        "dfs = {}\n",
        "\n",
        "# Iterate through each sheet\n",
        "for sheet_name in sheet_names:\n",
        "    print(f\"\\nSheet: {sheet_name}\")\n",
        "    sheet = wb[sheet_name]\n",
        "\n",
        "    # Extract headers (first row)\n",
        "    headers = [cell.value for cell in sheet[1]]\n",
        "    # print(f\"Headers: {headers}\")\n",
        "\n",
        "    # Extract data rows\n",
        "    data = []\n",
        "    for row in sheet.iter_rows(min_row=2, values_only=True):\n",
        "        data.append(row)\n",
        "    # print(\"Data:\")\n",
        "    # for row in data:\n",
        "    #     print(row)\n",
        "\n",
        "    # Convert data to DataFrame\n",
        "    df = pd.DataFrame(data, columns=headers)\n",
        "    dfs[sheet_name] = df"
      ]
    },
    {
      "cell_type": "code",
      "execution_count": null,
      "metadata": {
        "id": "tuaI5x4prUxn",
        "colab": {
          "base_uri": "https://localhost:8080/"
        },
        "outputId": "64b82fc3-815e-4689-9dc6-78b118b98ff1"
      },
      "outputs": [
        {
          "output_type": "stream",
          "name": "stdout",
          "text": [
            "\n",
            "DataFrames:\n",
            "\n",
            "DataFrame: X_train_sim_imp_wNA_dt_rfe\n",
            "\n",
            "DataFrame: X_val_sim_imp_wNA_dt_rfe\n",
            "\n",
            "DataFrame: test_df_sim_imp_wNA_dt_rfe\n",
            "\n",
            "DataFrame: y_train\n",
            "\n",
            "DataFrame: y_val\n",
            "['X_train_sim_imp_wNA_dt_rfe', 'X_val_sim_imp_wNA_dt_rfe', 'test_df_sim_imp_wNA_dt_rfe', 'y_train', 'y_val']\n"
          ]
        }
      ],
      "source": [
        "# Access your DataFrames from the dictionary `dfs`\n",
        "print(\"\\nDataFrames:\")\n",
        "for name, df in dfs.items():\n",
        "    print(f\"\\nDataFrame: {name}\")\n",
        "    name = df\n",
        "\n",
        "print(sheet_names)"
      ]
    },
    {
      "cell_type": "code",
      "execution_count": null,
      "metadata": {
        "id": "pXYo-zt92_ii"
      },
      "outputs": [],
      "source": [
        "x_train, x_val, x_test, y_train, y_val = dfs.items()\n",
        "x_train_m = x_train[1]\n",
        "x_val_m = x_val[1]\n",
        "x_test_m = x_test[1]\n",
        "y_train_m = y_train[1]\n",
        "y_val_m = y_val[1]"
      ]
    },
    {
      "cell_type": "code",
      "execution_count": null,
      "metadata": {
        "id": "rec4PpvsN2HX"
      },
      "outputs": [],
      "source": [
        "x_train = x_train_m\n",
        "x_val = x_val_m\n",
        "x_test = x_test_m\n",
        "y_train = y_train_m\n",
        "y_val = y_val_m"
      ]
    },
    {
      "cell_type": "code",
      "execution_count": null,
      "metadata": {
        "id": "xvE3waWc2_lI",
        "colab": {
          "base_uri": "https://localhost:8080/"
        },
        "outputId": "b6e77cc0-cb75-496f-a251-1310774e5fc3"
      },
      "outputs": [
        {
          "output_type": "stream",
          "name": "stdout",
          "text": [
            "(47504, 200) (47504, 1)\n",
            "(11877, 200) (11877, 1)\n"
          ]
        }
      ],
      "source": [
        "print(x_train_m.shape, y_train_m.shape)\n",
        "print(x_val_m.shape, y_val_m.shape)\n"
      ]
    },
    {
      "cell_type": "code",
      "execution_count": null,
      "metadata": {
        "id": "FN0oy0ntlK7q",
        "colab": {
          "base_uri": "https://localhost:8080/"
        },
        "outputId": "4ef02969-8835-4887-ec32-74786dc251b7"
      },
      "outputs": [
        {
          "output_type": "execute_result",
          "data": {
            "text/plain": [
              "None    1\n",
              "dtype: int64"
            ]
          },
          "metadata": {},
          "execution_count": 10
        }
      ],
      "source": [
        "y_train_m.max()"
      ]
    },
    {
      "cell_type": "code",
      "execution_count": null,
      "metadata": {
        "id": "AnmZQvwcDbzg",
        "colab": {
          "base_uri": "https://localhost:8080/"
        },
        "outputId": "d84268ca-9b28-42cb-e07c-aa48de13ed96"
      },
      "outputs": [
        {
          "output_type": "stream",
          "name": "stderr",
          "text": [
            "/usr/local/lib/python3.10/dist-packages/sklearn/preprocessing/_label.py:116: DataConversionWarning: A column-vector y was passed when a 1d array was expected. Please change the shape of y to (n_samples, ), for example using ravel().\n",
            "  y = column_or_1d(y, warn=True)\n",
            "/usr/local/lib/python3.10/dist-packages/sklearn/preprocessing/_label.py:134: DataConversionWarning: A column-vector y was passed when a 1d array was expected. Please change the shape of y to (n_samples, ), for example using ravel().\n",
            "  y = column_or_1d(y, dtype=self.classes_.dtype, warn=True)\n"
          ]
        }
      ],
      "source": [
        "label_encoder = LabelEncoder()\n",
        "y_train_encoded = label_encoder.fit_transform(y_train)\n",
        "y_val_encoded = label_encoder.transform(y_val)"
      ]
    },
    {
      "cell_type": "code",
      "execution_count": null,
      "metadata": {
        "id": "UWyPseJy2_nx"
      },
      "outputs": [],
      "source": [
        "xgb = XGBClassifier()"
      ]
    },
    {
      "cell_type": "markdown",
      "metadata": {
        "id": "wZoEBo7_Sos1"
      },
      "source": [
        "XGBoost"
      ]
    },
    {
      "cell_type": "code",
      "execution_count": null,
      "metadata": {
        "id": "066721U33wix",
        "colab": {
          "base_uri": "https://localhost:8080/"
        },
        "outputId": "8e8c22d5-deb6-4ba7-a10d-1e04a2f23265"
      },
      "outputs": [
        {
          "metadata": {
            "tags": null
          },
          "name": "stdout",
          "output_type": "stream",
          "text": [
            "Fitting 3 folds for each of 50 candidates, totalling 150 fits\n"
          ]
        },
        {
          "metadata": {
            "tags": null
          },
          "name": "stderr",
          "output_type": "stream",
          "text": [
            "/usr/local/lib/python3.10/dist-packages/joblib/externals/loky/backend/fork_exec.py:38: RuntimeWarning: os.fork() was called. os.fork() is incompatible with multithreaded code, and JAX is multithreaded, so this will likely lead to a deadlock.\n",
            "  pid = os.fork()\n",
            "/usr/local/lib/python3.10/dist-packages/joblib/externals/loky/backend/fork_exec.py:38: RuntimeWarning: os.fork() was called. os.fork() is incompatible with multithreaded code, and JAX is multithreaded, so this will likely lead to a deadlock.\n",
            "  pid = os.fork()\n",
            "/usr/local/lib/python3.10/dist-packages/joblib/externals/loky/process_executor.py:752: UserWarning: A worker stopped while some jobs were given to the executor. This can be caused by a too short worker timeout or by a memory leak.\n",
            "  warnings.warn(\n"
          ]
        },
        {
          "output_type": "stream",
          "name": "stdout",
          "text": [
            "Best parameters found: {'colsample_bytree': 0.7473544037332349, 'learning_rate': 0.21473859738014883, 'max_depth': 29, 'min_child_weight': 0, 'n_estimators': 630, 'subsample': 0.8439761626945282}\n",
            "Best cross-validation score: 0.9801700909221353\n",
            "Accuracy on validation set with best estimator: 0.9803\n",
            "Precision on validation set with best estimator: 0.9803\n",
            "Recall on validation set with best estimator: 0.9803\n"
          ]
        }
      ],
      "source": [
        "random_state = 42\n",
        "\n",
        "# Define the parameter distributions\n",
        "param_dist = {\n",
        "    'max_depth': randint(10, 40),  # XGBClassifier parameters\n",
        "    'min_child_weight': randint(0, 3),\n",
        "    'subsample': uniform(0.5, 0.4),\n",
        "    'colsample_bytree': uniform(0.5, 0.4),\n",
        "    'learning_rate': uniform(0.1, 0.3),\n",
        "    'n_estimators': randint(500, 1500)\n",
        "}\n",
        "\n",
        "\n",
        "xgb = XGBClassifier(objective='multi:softmax', num_class=8, n_jobs=-1)\n",
        "\n",
        "# Instantiate RandomizedSearchCV\n",
        "random_search = RandomizedSearchCV(estimator=xgb,\n",
        "                                   param_distributions=param_dist,\n",
        "                                   n_iter=50,  # Number of parameter settings that are sampled\n",
        "                                   scoring='accuracy',\n",
        "                                   cv=3,\n",
        "                                   verbose=1,\n",
        "                                   n_jobs=-1,\n",
        "                                   random_state=42)\n",
        "\n",
        "# Fit RandomizedSearchCV to the training data\n",
        "random_search.fit(x_train, y_train_encoded)\n",
        "\n",
        "# Print the best parameters and best score\n",
        "print(\"Best parameters found:\", random_search.best_params_)\n",
        "print(\"Best cross-validation score:\", random_search.best_score_)\n",
        "\n",
        "# Get the best estimator\n",
        "best_xgb_model = random_search.best_estimator_\n",
        "\n",
        "# Predict on validation set with the best estimator\n",
        "y_pred = best_xgb_model.predict(x_val)\n",
        "\n",
        "# Evaluate accuracy with the best estimator\n",
        "accuracy_best = accuracy_score(y_val_encoded, y_pred)\n",
        "print(f\"Accuracy on validation set with best estimator: {accuracy_best:.4f}\")\n",
        "\n",
        "# Evaluate precision with the best estimator\n",
        "precision_best = precision_score(y_val_encoded, y_pred, average='micro')\n",
        "print(f\"Precision on validation set with best estimator: {precision_best:.4f}\")\n",
        "\n",
        "# Evaluate precision with the best estimator\n",
        "recall_best = recall_score(y_val_encoded, y_pred, average='micro')\n",
        "print(f\"Recall on validation set with best estimator: {recall_best:.4f}\")"
      ]
    },
    {
      "cell_type": "markdown",
      "metadata": {
        "id": "SJaMbytvO0w2"
      },
      "source": [
        "Random Forest"
      ]
    },
    {
      "cell_type": "code",
      "execution_count": null,
      "metadata": {
        "id": "ja33RMFbOz3w",
        "colab": {
          "base_uri": "https://localhost:8080/"
        },
        "outputId": "a564b0fe-26bc-4c22-a36f-fb974982b01c"
      },
      "outputs": [
        {
          "output_type": "stream",
          "name": "stdout",
          "text": [
            "Fitting 3 folds for each of 50 candidates, totalling 150 fits\n"
          ]
        },
        {
          "output_type": "stream",
          "name": "stderr",
          "text": [
            "/usr/local/lib/python3.10/dist-packages/sklearn/ensemble/_forest.py:424: FutureWarning: `max_features='auto'` has been deprecated in 1.1 and will be removed in 1.3. To keep the past behaviour, explicitly set `max_features='sqrt'` or remove this parameter as it is also the default value for RandomForestClassifiers and ExtraTreesClassifiers.\n",
            "  warn(\n"
          ]
        },
        {
          "output_type": "stream",
          "name": "stdout",
          "text": [
            "Best parameters found: {'n_estimators': 1300, 'min_samples_split': 50, 'min_samples_leaf': 5, 'max_features': 'auto', 'max_depth': 30}\n",
            "Best cross-validation score: 0.980106938345454\n",
            "Accuracy on validation set with best estimator: 0.9800\n",
            "Precision on validation set with best estimator: 0.9800\n",
            "Recall on validation set with best estimator: 0.9800\n"
          ]
        }
      ],
      "source": [
        "\n",
        "param_grid = {\n",
        "    'n_estimators': [900, 1100, 1300],\n",
        "    'max_depth': [10, 20, 30],\n",
        "    'min_samples_split': [30, 50],\n",
        "    'min_samples_leaf': [5, 10],\n",
        "    'max_features': ['auto', 'sqrt', 'log2']\n",
        "}\n",
        "\n",
        "\n",
        "random_forest = RandomForestClassifier(random_state=42)\n",
        "\n",
        "# Instantiate the RandomizedSearchCV object\n",
        "random_search = RandomizedSearchCV(estimator=random_forest,\n",
        "                                   param_distributions=param_grid,\n",
        "                                   n_iter=50,  # Number of parameter settings that are sampled\n",
        "                                   scoring='accuracy',\n",
        "                                   cv=3,\n",
        "                                   verbose=1,\n",
        "                                   n_jobs=-1,\n",
        "                                   random_state=42)\n",
        "\n",
        "# Fit RandomizedSearchCV to the training data\n",
        "random_search.fit(x_train, y_train_encoded)\n",
        "\n",
        "# Print the best parameters and best score\n",
        "print(\"Best parameters found:\", random_search.best_params_)\n",
        "print(\"Best cross-validation score:\", random_search.best_score_)\n",
        "\n",
        "# Get the best estimator\n",
        "best_rf_classifier = random_search.best_estimator_\n",
        "\n",
        "# Predict on the validation set with the best estimator\n",
        "y_pred_best = best_rf_classifier.predict(x_val)\n",
        "\n",
        "# Evaluate accuracy with the best estimator\n",
        "accuracy_best = accuracy_score(y_val_encoded, y_pred_best)\n",
        "print(f\"Accuracy on validation set with best estimator: {accuracy_best:.4f}\")\n",
        "\n",
        "# Evaluate precision with the best estimator\n",
        "precision_best = precision_score(y_val_encoded, y_pred_best, average='micro')\n",
        "print(f\"Precision on validation set with best estimator: {precision_best:.4f}\")\n",
        "\n",
        "# Evaluate precision with the best estimator\n",
        "recall_best = recall_score(y_val_encoded, y_pred_best, average='micro')\n",
        "print(f\"Recall on validation set with best estimator: {recall_best:.4f}\")"
      ]
    },
    {
      "cell_type": "code",
      "execution_count": null,
      "metadata": {
        "id": "TDWHLGsPx8X9"
      },
      "outputs": [],
      "source": [
        "# Evaluate accuracy with the best estimator\n",
        "accuracy_best = accuracy_score(y_val_encoded, y_pred_best)\n",
        "print(f\"Accuracy on validation set with best estimator: {accuracy_best:.4f}\")\n",
        "\n",
        "# Evaluate precision with the best estimator\n",
        "precision_best = precision_score(y_val_encoded, y_pred_best, average='micro')\n",
        "print(f\"Precision on validation set with best estimator: {precision_best:.4f}\")"
      ]
    },
    {
      "cell_type": "markdown",
      "metadata": {
        "id": "H4DNdLwoaY_8"
      },
      "source": [
        "ANN/DNN"
      ]
    },
    {
      "cell_type": "code",
      "execution_count": null,
      "metadata": {
        "id": "TzIwpFLIyzsQ"
      },
      "outputs": [],
      "source": [
        "def build_model(hp):\n",
        "    input_dim = x_train.shape[1]  # Assuming x_train is defined outside this function\n",
        "\n",
        "    i_model = Sequential()\n",
        "    i_model.add(Dense(100, input_dim=input_dim, activation='linear'))\n",
        "\n",
        "    for each_layer in range(hp.Int(\"Dense Layers\", min_value=1, max_value=4)):\n",
        "        i_model.add(Dense(hp.Choice(f\"layer_{each_layer}_filters\", [30, 60, 90, 120]),\n",
        "        activation=hp.Choice(f\"layer_{each_layer}_activation\", ['relu', 'sigmoid', 'tanh', 'linear']),\n",
        "        kernel_regularizer=regularizers.l2(hp.Float(\"Regularizer_rate\", min_value=0, max_value=0.1))))\n",
        "        i_model.add(Dropout(rate=hp.Float(\"Dropout_rate\", min_value=0, max_value=0.5)))\n",
        "\n",
        "\n",
        "    i_model.add(Dense(8, activation='softmax'))\n",
        "\n",
        "    i_model.compile(optimizer=Adam(learning_rate=0.1),\n",
        "                    loss=sparse_categorical_crossentropy,\n",
        "                    metrics='accuracy')\n",
        "\n",
        "    return i_model"
      ]
    },
    {
      "cell_type": "code",
      "source": [
        "smote1 = SMOTE(sampling_strategy='not majority', random_state=42)\n",
        "x_train_resampled1, y_train_resampled1 = smote1.fit_resample(x_train, y_train_encoded)"
      ],
      "metadata": {
        "id": "7aElbnGG8zIC"
      },
      "execution_count": null,
      "outputs": []
    },
    {
      "cell_type": "code",
      "source": [
        "smote2 = SMOTE(sampling_strategy='minority', random_state=42)\n",
        "x_train_resampled2, y_train_resampled2 = smote2.fit_resample(x_train, y_train_encoded)"
      ],
      "metadata": {
        "id": "IgzrbK3s-bCX"
      },
      "execution_count": null,
      "outputs": []
    },
    {
      "cell_type": "code",
      "execution_count": null,
      "metadata": {
        "id": "50JfTtdHyxnZ",
        "colab": {
          "base_uri": "https://localhost:8080/"
        },
        "outputId": "5179efd9-b952-4dab-aed8-7946d7a966fc"
      },
      "outputs": [
        {
          "output_type": "stream",
          "name": "stdout",
          "text": [
            "Trial 50 Complete [00h 04m 06s]\n",
            "accuracy: 0.962129533290863\n",
            "\n",
            "Best accuracy So Far: 0.9801069498062134\n",
            "Total elapsed time: 06h 08m 43s\n"
          ]
        }
      ],
      "source": [
        "\n",
        "tuner = RandomSearch(build_model, objective='accuracy', max_trials=50)\n",
        "\n",
        "stop_early = keras.callbacks.EarlyStopping(monitor='val_loss', patience=4)\n",
        "\n",
        "tuner.search(x_train, y_train_encoded, validation_data=(x_val, y_val_encoded), epochs=40, batch_size=3, callbacks=[stop_early])\n",
        "\n"
      ]
    },
    {
      "cell_type": "code",
      "execution_count": null,
      "metadata": {
        "id": "d57CJpE9hglk",
        "colab": {
          "base_uri": "https://localhost:8080/"
        },
        "outputId": "8875b34d-f6e6-49b3-81af-6936e3d140dd"
      },
      "outputs": [
        {
          "output_type": "stream",
          "name": "stdout",
          "text": [
            "Dense Layers: 2\n",
            "layer_0_filters: 120\n",
            "layer_0_activation: linear\n",
            "Regularizer_rate: 0.06280915889006106\n",
            "Dropout_rate: 0.046592429057406626\n",
            "layer_1_filters: 30\n",
            "layer_1_activation: relu\n"
          ]
        }
      ],
      "source": [
        "best_hps = tuner.get_best_hyperparameters(num_trials=1)[0]\n",
        "\n",
        "# Print each hyperparameter and its value\n",
        "for key, value in best_hps.values.items():\n",
        "    print(f\"{key}: {value}\")"
      ]
    },
    {
      "cell_type": "code",
      "execution_count": null,
      "metadata": {
        "id": "TKaqtUBoyvQ5"
      },
      "outputs": [],
      "source": [
        "# best_model = tuner.hypermodel.build(best_hps)\n",
        "\n",
        "# history = best_model.fit(x_train, y_train_encoded,\n",
        "#                          epochs=50,\n",
        "#                          batch_size=5,\n",
        "#                          validation_data=(x_val, y_val_encoded),\n",
        "#                          callbacks=[stop_early])\n",
        "\n",
        "# # Get the final number of epochs\n",
        "# final_epochs = len(history.history['loss'])\n",
        "# print(f\"Final number of epochs: {final_epochs}\")"
      ]
    },
    {
      "cell_type": "code",
      "execution_count": null,
      "metadata": {
        "id": "HCQ62Kpr7Lmg",
        "colab": {
          "base_uri": "https://localhost:8080/"
        },
        "outputId": "b8b1c539-c03b-4366-b069-30f211b9bdb9"
      },
      "outputs": [
        {
          "output_type": "stream",
          "name": "stdout",
          "text": [
            "Best hyperparameters found: <keras_tuner.src.engine.hyperparameters.hyperparameters.HyperParameters object at 0x7852a850fd00>\n",
            "Epoch 1/40\n",
            "2910/2910 [==============================] - 10s 3ms/step - loss: 124.8510 - accuracy: 0.5023 - val_loss: 9.0794 - val_accuracy: 0.0200\n",
            "Epoch 2/40\n",
            "2910/2910 [==============================] - 8s 3ms/step - loss: 7.7559 - accuracy: 0.5014 - val_loss: 0.6419 - val_accuracy: 0.9800\n",
            "Epoch 3/40\n",
            "2910/2910 [==============================] - 9s 3ms/step - loss: 0.6971 - accuracy: 0.5021 - val_loss: 0.5604 - val_accuracy: 0.9800\n",
            "Epoch 4/40\n",
            "2910/2910 [==============================] - 9s 3ms/step - loss: 0.6973 - accuracy: 0.5009 - val_loss: 0.5848 - val_accuracy: 0.9800\n",
            "Epoch 5/40\n",
            "2910/2910 [==============================] - 9s 3ms/step - loss: 0.6973 - accuracy: 0.5044 - val_loss: 0.7531 - val_accuracy: 0.0200\n",
            "Epoch 6/40\n",
            "2910/2910 [==============================] - 9s 3ms/step - loss: 0.6976 - accuracy: 0.5003 - val_loss: 0.8557 - val_accuracy: 0.0200\n",
            "Epoch 7/40\n",
            "2910/2910 [==============================] - 8s 3ms/step - loss: 0.6970 - accuracy: 0.4990 - val_loss: 0.6358 - val_accuracy: 0.9800\n",
            "dict_keys(['loss', 'accuracy', 'val_loss', 'val_accuracy'])\n"
          ]
        }
      ],
      "source": [
        "best_hps = tuner.get_best_hyperparameters(num_trials=1)[0]\n",
        "print(f\"Best hyperparameters found: {best_hps}\")\n",
        "\n",
        "# Build and train best model\n",
        "best_model = tuner.hypermodel.build(best_hps)\n",
        "history1 = best_model.fit(\n",
        "    x_train_resampled1,\n",
        "    y_train_resampled1,\n",
        "    validation_data=(x_val, y_val_encoded),\n",
        "    epochs=40,\n",
        "    batch_size=32,\n",
        "    verbose=1,  # Ensure verbosity is set appropriately\n",
        "    callbacks=[stop_early])\n",
        "\n",
        "# Access training history\n",
        "print(history1.history.keys())  # Print available metrics in history"
      ]
    },
    {
      "cell_type": "code",
      "execution_count": null,
      "metadata": {
        "id": "1NalFtxjstvj"
      },
      "outputs": [],
      "source": [
        "accuracy1 = history1.history['accuracy']\n",
        "val_accuracy1 = history1.history['val_accuracy']\n",
        "epochs_range1 = range(len(accuracy1))\n",
        "\n",
        "import matplotlib.pyplot as plt\n",
        "\n",
        "plt.plot(epochs_range1, accuracy1,'b',label='Train accuracy')\n",
        "plt.plot(epochs_range1, val_accuracy1,'r',label='Val accuracy')\n",
        "plt.legend()\n",
        "plt.figure()\n",
        "\n"
      ]
    },
    {
      "cell_type": "code",
      "execution_count": null,
      "metadata": {
        "id": "jWMUymEu8BSp"
      },
      "outputs": [],
      "source": [
        "# Assuming y_pred is obtained from best_model.predict(x_val)\n",
        "y_pred1 = best_model.predict(x_val)\n",
        "\n",
        "# Convert y_pred probabilities to integer labels\n",
        "y_pred_labels1 = np.argmax(y_pred1, axis=1)\n",
        "\n",
        "# Compute metrics with integer labels\n",
        "accuracy1 = accuracy_score(y_val_encoded, y_pred_labels1)\n",
        "print(f\"Accuracy: {accuracy1}\")\n",
        "\n",
        "precision1 = precision_score(y_val_encoded, y_pred_labels1, average='micro')\n",
        "print(f\"Precision: {precision1}\")\n",
        "\n",
        "recall1 = recall_score(y_val_encoded, y_pred_labels1, average='micro')\n",
        "print(f\"Recall: {recall1}\")"
      ]
    },
    {
      "cell_type": "code",
      "source": [],
      "metadata": {
        "id": "MNwZcE-JDUqc"
      },
      "execution_count": null,
      "outputs": []
    },
    {
      "cell_type": "code",
      "execution_count": null,
      "metadata": {
        "id": "7iq5AA5DDVef",
        "colab": {
          "base_uri": "https://localhost:8080/"
        },
        "outputId": "602a758c-e0fc-43c9-d94b-a1834386a5d4"
      },
      "outputs": [
        {
          "output_type": "stream",
          "name": "stdout",
          "text": [
            "Best hyperparameters found: <keras_tuner.src.engine.hyperparameters.hyperparameters.HyperParameters object at 0x7852a850fd00>\n",
            "Epoch 1/50\n",
            "2910/2910 [==============================] - 10s 3ms/step - loss: 17.8293 - accuracy: 0.5018 - val_loss: 0.7458 - val_accuracy: 0.0200\n",
            "Epoch 2/50\n",
            "2910/2910 [==============================] - 9s 3ms/step - loss: 0.6978 - accuracy: 0.5028 - val_loss: 0.6908 - val_accuracy: 0.9800\n",
            "Epoch 3/50\n",
            "2910/2910 [==============================] - 7s 2ms/step - loss: 0.6972 - accuracy: 0.4979 - val_loss: 0.7000 - val_accuracy: 0.0200\n",
            "Epoch 4/50\n",
            "2910/2910 [==============================] - 8s 3ms/step - loss: 0.6982 - accuracy: 0.4980 - val_loss: 0.6586 - val_accuracy: 0.9800\n",
            "Epoch 5/50\n",
            "2910/2910 [==============================] - 7s 3ms/step - loss: 0.6974 - accuracy: 0.5004 - val_loss: 0.8262 - val_accuracy: 0.0200\n",
            "Epoch 6/50\n",
            "2910/2910 [==============================] - 8s 3ms/step - loss: 0.6969 - accuracy: 0.4973 - val_loss: 0.8497 - val_accuracy: 0.0200\n",
            "Epoch 7/50\n",
            "2910/2910 [==============================] - 7s 2ms/step - loss: 0.6971 - accuracy: 0.4992 - val_loss: 0.6980 - val_accuracy: 0.0200\n",
            "Epoch 8/50\n",
            "2910/2910 [==============================] - 8s 3ms/step - loss: 0.6970 - accuracy: 0.5004 - val_loss: 0.6118 - val_accuracy: 0.9800\n",
            "Epoch 9/50\n",
            "2910/2910 [==============================] - 8s 3ms/step - loss: 0.6969 - accuracy: 0.5007 - val_loss: 0.7473 - val_accuracy: 0.0200\n",
            "Epoch 10/50\n",
            "2910/2910 [==============================] - 8s 3ms/step - loss: 0.6973 - accuracy: 0.4994 - val_loss: 0.5893 - val_accuracy: 0.9800\n",
            "Epoch 11/50\n",
            "2910/2910 [==============================] - 8s 3ms/step - loss: 0.6968 - accuracy: 0.5002 - val_loss: 0.6371 - val_accuracy: 0.9800\n",
            "Epoch 12/50\n",
            "2910/2910 [==============================] - 8s 3ms/step - loss: 0.6973 - accuracy: 0.4991 - val_loss: 0.6980 - val_accuracy: 0.0200\n",
            "Epoch 13/50\n",
            "2910/2910 [==============================] - 8s 3ms/step - loss: 0.6970 - accuracy: 0.5018 - val_loss: 0.6985 - val_accuracy: 0.0200\n",
            "Epoch 14/50\n",
            "2910/2910 [==============================] - 8s 3ms/step - loss: 0.6974 - accuracy: 0.4986 - val_loss: 0.7129 - val_accuracy: 0.0200\n",
            "dict_keys(['loss', 'accuracy', 'val_loss', 'val_accuracy'])\n"
          ]
        }
      ],
      "source": [
        "best_hps = tuner.get_best_hyperparameters(num_trials=1)[0]\n",
        "print(f\"Best hyperparameters found: {best_hps}\")\n",
        "\n",
        "# Build and train best model\n",
        "best_model = tuner.hypermodel.build(best_hps)\n",
        "history2 = best_model.fit(\n",
        "    x_train_resampled2,\n",
        "    y_train_resampled2,\n",
        "    validation_data=(x_val, y_val_encoded),\n",
        "    epochs=50,\n",
        "    batch_size=32,\n",
        "    verbose=1,  # Ensure verbosity is set appropriately\n",
        "    callbacks=[stop_early])\n",
        "\n",
        "# Access training history\n",
        "print(history2.history.keys())  # Print available metrics in history"
      ]
    },
    {
      "cell_type": "code",
      "source": [
        "accuracy2 = history2.history['accuracy']\n",
        "val_accuracy2 = history2.history['val_accuracy']\n",
        "epochs_range2 = range(len(accuracy2))\n",
        "\n",
        "import matplotlib.pyplot as plt\n",
        "\n",
        "plt.plot(epochs_range2, accuracy2,'b',label='Train accuracy')\n",
        "plt.plot(epochs_range2, val_accuracy2,'r',label='Val accuracy')\n",
        "plt.legend()\n",
        "plt.figure()"
      ],
      "metadata": {
        "id": "1Gz5DGFzDn3u"
      },
      "execution_count": null,
      "outputs": []
    },
    {
      "cell_type": "code",
      "source": [
        "# Assuming y_pred is obtained from best_model.predict(x_val)\n",
        "y_pred2 = best_model.predict(x_val)\n",
        "\n",
        "# Convert y_pred probabilities to integer labels\n",
        "y_pred_labels2 = np.argmax(y_pred2, axis=1)\n",
        "\n",
        "# Compute metrics with integer labels\n",
        "accuracy2 = accuracy_score(y_val_encoded, y_pred_labels2)\n",
        "print(f\"Accuracy: {accuracy2}\")\n",
        "\n",
        "precision2 = precision_score(y_val_encoded, y_pred_labels2, average='micro')\n",
        "print(f\"Precision: {precision2}\")\n",
        "\n",
        "recall2 = recall_score(y_val_encoded, y_pred_labels2, average='micro')\n",
        "print(f\"Recall: {recall2}\")"
      ],
      "metadata": {
        "id": "GNEwIkfbEXNQ"
      },
      "execution_count": null,
      "outputs": []
    },
    {
      "cell_type": "code",
      "source": [],
      "metadata": {
        "id": "epmAqAXsE_Aq"
      },
      "execution_count": null,
      "outputs": []
    },
    {
      "cell_type": "code",
      "source": [
        "best_hps = tuner.get_best_hyperparameters(num_trials=1)[0]\n",
        "print(f\"Best hyperparameters found: {best_hps}\")\n",
        "\n",
        "# Build and train best model\n",
        "best_model = tuner.hypermodel.build(best_hps)\n",
        "history3 = best_model.fit(\n",
        "    x_train,\n",
        "    y_train_encoded,\n",
        "    validation_data=(x_val, y_val_encoded),\n",
        "    epochs=50,\n",
        "    batch_size=32,\n",
        "    verbose=1,  # Ensure verbosity is set appropriately\n",
        "    callbacks=[stop_early])\n",
        "\n",
        "# Access training history\n",
        "print(history3.history.keys())  # Print available metrics in history"
      ],
      "metadata": {
        "id": "frO-NvSpE_N4"
      },
      "execution_count": null,
      "outputs": []
    },
    {
      "cell_type": "code",
      "source": [
        "accuracy3 = history3.history['accuracy']\n",
        "val_accuracy3 = history3.history['val_accuracy']\n",
        "epochs_range3 = range(len(accuracy3))\n",
        "\n",
        "import matplotlib.pyplot as plt\n",
        "\n",
        "plt.plot(epochs_range3, accuracy3,'b',label='Train accuracy')\n",
        "plt.plot(epochs_range3, val_accuracy3,'r',label='Val accuracy')\n",
        "plt.legend()\n",
        "plt.figure()"
      ],
      "metadata": {
        "id": "U5Kj5YspFXS7",
        "colab": {
          "base_uri": "https://localhost:8080/",
          "height": 465
        },
        "outputId": "d4ac9a8a-6384-4151-c467-36b99255f0da"
      },
      "execution_count": null,
      "outputs": [
        {
          "output_type": "execute_result",
          "data": {
            "text/plain": [
              "<Figure size 640x480 with 0 Axes>"
            ]
          },
          "metadata": {},
          "execution_count": 29
        },
        {
          "output_type": "display_data",
          "data": {
            "text/plain": [
              "<Figure size 640x480 with 1 Axes>"
            ],
            "image/png": "[encoded data removed]"
          },
          "metadata": {}
        },
        {
          "output_type": "display_data",
          "data": {
            "text/plain": [
              "<Figure size 640x480 with 0 Axes>"
            ]
          },
          "metadata": {}
        }
      ]
    },
    {
      "cell_type": "code",
      "source": [
        "# Assuming y_pred is obtained from best_model.predict(x_val)\n",
        "y_pred3 = best_model.predict(x_val)\n",
        "\n",
        "# Convert y_pred probabilities to integer labels\n",
        "y_pred_labels3 = np.argmax(y_pred3, axis=1)\n",
        "\n",
        "# Compute metrics with integer labels\n",
        "accuracy3 = accuracy_score(y_val_encoded, y_pred_labels3)\n",
        "print(f\"Accuracy: {accuracy3}\")\n",
        "\n",
        "precision3 = precision_score(y_val_encoded, y_pred_labels3, average='micro')\n",
        "print(f\"Precision: {precision2}\")\n",
        "\n",
        "recall3 = recall_score(y_val_encoded, y_pred_labels3, average='micro')\n",
        "print(f\"Recall: {recall2}\")"
      ],
      "metadata": {
        "id": "wR_frgV7FdQm",
        "colab": {
          "base_uri": "https://localhost:8080/"
        },
        "outputId": "2bf247ea-267a-4438-e203-a8e4e1962438"
      },
      "execution_count": null,
      "outputs": [
        {
          "metadata": {
            "tags": null
          },
          "name": "stdout",
          "output_type": "stream",
          "text": [
            "372/372 [==============================] - 1s 1ms/step\n",
            "Accuracy: 0.9800454660267744\n",
            "Precision: 0.019954533973225563\n",
            "Recall: 0.019954533973225563\n"
          ]
        }
      ]
    }
  ],
  "metadata": {
    "colab": {
      "machine_shape": "hm",
      "provenance": [],
      "mount_file_id": "1lSz9j_gXZ0m7HP7tJVfRUXL19g0fMbGm",
      "authorship_tag": "ABX9TyO38wKQtTgNwPiN9j4KfGht",
      "include_colab_link": true
    },
    "kernelspec": {
      "display_name": "Python 3",
      "name": "python3"
    },
    "language_info": {
      "name": "python"
    }
  },
  "nbformat": 4,
  "nbformat_minor": 0
}