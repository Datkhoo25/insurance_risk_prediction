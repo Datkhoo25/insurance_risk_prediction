{
  "cells": [
    {
      "cell_type": "markdown",
      "metadata": {
        "id": "view-in-github",
        "colab_type": "text"
      },
      "source": [
        "<a href=\"https://colab.research.google.com/github/Datkhoo25/insurance_risk_prediction/blob/main/7_RFE_DT_KNN_Impute.ipynb\" target=\"_parent\"><img src=\"https://colab.research.google.com/assets/colab-badge.svg\" alt=\"Open In Colab\"/></a>"
      ]
    },
    {
      "cell_type": "code",
      "execution_count": null,
      "metadata": {
        "id": "69OhFAnVx55a",
        "colab": {
          "base_uri": "https://localhost:8080/"
        },
        "outputId": "7c956d02-7507-490b-a56d-9ba15397e141"
      },
      "outputs": [
        {
          "output_type": "stream",
          "name": "stdout",
          "text": [
            "Drive already mounted at /content/drive; to attempt to forcibly remount, call drive.mount(\"/content/drive\", force_remount=True).\n"
          ]
        }
      ],
      "source": [
        "from google.colab import drive\n",
        "drive.mount('/content/drive', timeout_ms=300000)"
      ]
    },
    {
      "cell_type": "code",
      "execution_count": null,
      "metadata": {
        "id": "1r183ZGTona4"
      },
      "outputs": [],
      "source": [
        "import pandas as pd\n",
        "import numpy as np\n",
        "import openpyxl\n",
        "from scipy.stats import randint, uniform\n",
        "\n",
        "from scipy.optimize import fmin_powell\n",
        "from sklearn.preprocessing import LabelEncoder\n",
        "\n",
        "from sklearn.metrics import log_loss\n",
        "from sklearn.ensemble import RandomForestClassifier\n",
        "from sklearn.model_selection import RandomizedSearchCV\n",
        "from sklearn.model_selection import train_test_split\n",
        "from sklearn import ensemble\n",
        "from sklearn.ensemble import GradientBoostingClassifier\n",
        "from xgboost import XGBClassifier\n",
        "from sklearn.linear_model import LogisticRegression\n",
        "from sklearn.metrics import accuracy_score,  roc_auc_score, f1_score, precision_score, recall_score, classification_report, confusion_matrix, r2_score\n",
        "\n",
        "from imblearn.over_sampling import SMOTE\n",
        "from imblearn.pipeline import Pipeline"
      ]
    },
    {
      "cell_type": "code",
      "execution_count": null,
      "metadata": {
        "id": "--Fn2wsFa_EL",
        "colab": {
          "base_uri": "https://localhost:8080/"
        },
        "outputId": "37e4e9b2-e021-4a41-8eca-1f275e5634a6"
      },
      "outputs": [
        {
          "output_type": "stream",
          "name": "stdout",
          "text": [
            "Requirement already satisfied: tensorflow in /usr/local/lib/python3.10/dist-packages (2.15.0)\n",
            "Requirement already satisfied: absl-py>=1.0.0 in /usr/local/lib/python3.10/dist-packages (from tensorflow) (1.4.0)\n",
            "Requirement already satisfied: astunparse>=1.6.0 in /usr/local/lib/python3.10/dist-packages (from tensorflow) (1.6.3)\n",
            "Requirement already satisfied: flatbuffers>=23.5.26 in /usr/local/lib/python3.10/dist-packages (from tensorflow) (24.3.25)\n",
            "Requirement already satisfied: gast!=0.5.0,!=0.5.1,!=0.5.2,>=0.2.1 in /usr/local/lib/python3.10/dist-packages (from tensorflow) (0.6.0)\n",
            "Requirement already satisfied: google-pasta>=0.1.1 in /usr/local/lib/python3.10/dist-packages (from tensorflow) (0.2.0)\n",
            "Requirement already satisfied: h5py>=2.9.0 in /usr/local/lib/python3.10/dist-packages (from tensorflow) (3.9.0)\n",
            "Requirement already satisfied: libclang>=13.0.0 in /usr/local/lib/python3.10/dist-packages (from tensorflow) (18.1.1)\n",
            "Requirement already satisfied: ml-dtypes~=0.2.0 in /usr/local/lib/python3.10/dist-packages (from tensorflow) (0.2.0)\n",
            "Requirement already satisfied: numpy<2.0.0,>=1.23.5 in /usr/local/lib/python3.10/dist-packages (from tensorflow) (1.25.2)\n",
            "Requirement already satisfied: opt-einsum>=2.3.2 in /usr/local/lib/python3.10/dist-packages (from tensorflow) (3.3.0)\n",
            "Requirement already satisfied: packaging in /usr/local/lib/python3.10/dist-packages (from tensorflow) (24.1)\n",
            "Requirement already satisfied: protobuf!=4.21.0,!=4.21.1,!=4.21.2,!=4.21.3,!=4.21.4,!=4.21.5,<5.0.0dev,>=3.20.3 in /usr/local/lib/python3.10/dist-packages (from tensorflow) (3.20.3)\n",
            "Requirement already satisfied: setuptools in /usr/local/lib/python3.10/dist-packages (from tensorflow) (67.7.2)\n",
            "Requirement already satisfied: six>=1.12.0 in /usr/local/lib/python3.10/dist-packages (from tensorflow) (1.16.0)\n",
            "Requirement already satisfied: termcolor>=1.1.0 in /usr/local/lib/python3.10/dist-packages (from tensorflow) (2.4.0)\n",
            "Requirement already satisfied: typing-extensions>=3.6.6 in /usr/local/lib/python3.10/dist-packages (from tensorflow) (4.12.2)\n",
            "Requirement already satisfied: wrapt<1.15,>=1.11.0 in /usr/local/lib/python3.10/dist-packages (from tensorflow) (1.14.1)\n",
            "Requirement already satisfied: tensorflow-io-gcs-filesystem>=0.23.1 in /usr/local/lib/python3.10/dist-packages (from tensorflow) (0.37.1)\n",
            "Requirement already satisfied: grpcio<2.0,>=1.24.3 in /usr/local/lib/python3.10/dist-packages (from tensorflow) (1.64.1)\n",
            "Requirement already satisfied: tensorboard<2.16,>=2.15 in /usr/local/lib/python3.10/dist-packages (from tensorflow) (2.15.2)\n",
            "Requirement already satisfied: tensorflow-estimator<2.16,>=2.15.0 in /usr/local/lib/python3.10/dist-packages (from tensorflow) (2.15.0)\n",
            "Requirement already satisfied: keras<2.16,>=2.15.0 in /usr/local/lib/python3.10/dist-packages (from tensorflow) (2.15.0)\n",
            "Requirement already satisfied: wheel<1.0,>=0.23.0 in /usr/local/lib/python3.10/dist-packages (from astunparse>=1.6.0->tensorflow) (0.43.0)\n",
            "Requirement already satisfied: google-auth<3,>=1.6.3 in /usr/local/lib/python3.10/dist-packages (from tensorboard<2.16,>=2.15->tensorflow) (2.27.0)\n",
            "Requirement already satisfied: google-auth-oauthlib<2,>=0.5 in /usr/local/lib/python3.10/dist-packages (from tensorboard<2.16,>=2.15->tensorflow) (1.2.1)\n",
            "Requirement already satisfied: markdown>=2.6.8 in /usr/local/lib/python3.10/dist-packages (from tensorboard<2.16,>=2.15->tensorflow) (3.6)\n",
            "Requirement already satisfied: requests<3,>=2.21.0 in /usr/local/lib/python3.10/dist-packages (from tensorboard<2.16,>=2.15->tensorflow) (2.31.0)\n",
            "Requirement already satisfied: tensorboard-data-server<0.8.0,>=0.7.0 in /usr/local/lib/python3.10/dist-packages (from tensorboard<2.16,>=2.15->tensorflow) (0.7.2)\n",
            "Requirement already satisfied: werkzeug>=1.0.1 in /usr/local/lib/python3.10/dist-packages (from tensorboard<2.16,>=2.15->tensorflow) (3.0.3)\n",
            "Requirement already satisfied: cachetools<6.0,>=2.0.0 in /usr/local/lib/python3.10/dist-packages (from google-auth<3,>=1.6.3->tensorboard<2.16,>=2.15->tensorflow) (5.4.0)\n",
            "Requirement already satisfied: pyasn1-modules>=0.2.1 in /usr/local/lib/python3.10/dist-packages (from google-auth<3,>=1.6.3->tensorboard<2.16,>=2.15->tensorflow) (0.4.0)\n",
            "Requirement already satisfied: rsa<5,>=3.1.4 in /usr/local/lib/python3.10/dist-packages (from google-auth<3,>=1.6.3->tensorboard<2.16,>=2.15->tensorflow) (4.9)\n",
            "Requirement already satisfied: requests-oauthlib>=0.7.0 in /usr/local/lib/python3.10/dist-packages (from google-auth-oauthlib<2,>=0.5->tensorboard<2.16,>=2.15->tensorflow) (1.3.1)\n",
            "Requirement already satisfied: charset-normalizer<4,>=2 in /usr/local/lib/python3.10/dist-packages (from requests<3,>=2.21.0->tensorboard<2.16,>=2.15->tensorflow) (3.3.2)\n",
            "Requirement already satisfied: idna<4,>=2.5 in /usr/local/lib/python3.10/dist-packages (from requests<3,>=2.21.0->tensorboard<2.16,>=2.15->tensorflow) (3.7)\n",
            "Requirement already satisfied: urllib3<3,>=1.21.1 in /usr/local/lib/python3.10/dist-packages (from requests<3,>=2.21.0->tensorboard<2.16,>=2.15->tensorflow) (2.0.7)\n",
            "Requirement already satisfied: certifi>=2017.4.17 in /usr/local/lib/python3.10/dist-packages (from requests<3,>=2.21.0->tensorboard<2.16,>=2.15->tensorflow) (2024.7.4)\n",
            "Requirement already satisfied: MarkupSafe>=2.1.1 in /usr/local/lib/python3.10/dist-packages (from werkzeug>=1.0.1->tensorboard<2.16,>=2.15->tensorflow) (2.1.5)\n",
            "Requirement already satisfied: pyasn1<0.7.0,>=0.4.6 in /usr/local/lib/python3.10/dist-packages (from pyasn1-modules>=0.2.1->google-auth<3,>=1.6.3->tensorboard<2.16,>=2.15->tensorflow) (0.6.0)\n",
            "Requirement already satisfied: oauthlib>=3.0.0 in /usr/local/lib/python3.10/dist-packages (from requests-oauthlib>=0.7.0->google-auth-oauthlib<2,>=0.5->tensorboard<2.16,>=2.15->tensorflow) (3.2.2)\n",
            "Requirement already satisfied: keras in /usr/local/lib/python3.10/dist-packages (2.15.0)\n"
          ]
        }
      ],
      "source": [
        "!pip install tensorflow\n",
        "!pip install keras"
      ]
    },
    {
      "cell_type": "code",
      "execution_count": null,
      "metadata": {
        "id": "tz_IeV32WKRc",
        "colab": {
          "base_uri": "https://localhost:8080/"
        },
        "outputId": "14936beb-fd22-4668-acc6-b88c7b85fafd"
      },
      "outputs": [
        {
          "output_type": "stream",
          "name": "stdout",
          "text": [
            "\u001b[?25l     \u001b[90m━━━━━━━━━━━━━━━━━━━━━━━━━━━━━━━━━━━━━━━━\u001b[0m \u001b[32m0.0/129.1 kB\u001b[0m \u001b[31m?\u001b[0m eta \u001b[36m-:--:--\u001b[0m\r\u001b[2K     \u001b[91m━━━━━━━━━━━━━━━━━━━━━━━━━━━━━━━━━━━━━━\u001b[0m\u001b[90m╺\u001b[0m\u001b[90m━\u001b[0m \u001b[32m122.9/129.1 kB\u001b[0m \u001b[31m4.0 MB/s\u001b[0m eta \u001b[36m0:00:01\u001b[0m\r\u001b[2K     \u001b[90m━━━━━━━━━━━━━━━━━━━━━━━━━━━━━━━━━━━━━━━━\u001b[0m \u001b[32m129.1/129.1 kB\u001b[0m \u001b[31m3.2 MB/s\u001b[0m eta \u001b[36m0:00:00\u001b[0m\n",
            "\u001b[?25h"
          ]
        },
        {
          "output_type": "stream",
          "name": "stderr",
          "text": [
            "<ipython-input-4-670abaa5fb26>:13: DeprecationWarning: `import kerastuner` is deprecated, please use `import keras_tuner`.\n",
            "  import kerastuner as kt\n"
          ]
        }
      ],
      "source": [
        "!pip install -q -U keras-tuner\n",
        "from tensorflow import keras\n",
        "from keras.models import Sequential\n",
        "from keras.layers import Dense, Dropout\n",
        "from keras.initializers import HeNormal, GlorotNormal, LecunNormal\n",
        "\n",
        "from keras import regularizers\n",
        "from keras.layers import Dropout\n",
        "from keras.losses import sparse_categorical_crossentropy\n",
        "from keras.optimizers import Adam, SGD\n",
        "\n",
        "\n",
        "import kerastuner as kt\n",
        "from kerastuner.tuners import RandomSearch\n",
        "from kerastuner import Objective\n",
        "\n",
        "from keras.callbacks import History\n",
        "from keras.callbacks import Callback, EarlyStopping\n",
        "from keras.metrics import Accuracy, Recall, Precision\n"
      ]
    },
    {
      "cell_type": "code",
      "execution_count": null,
      "metadata": {
        "id": "b0ukCAVRrNry",
        "colab": {
          "base_uri": "https://localhost:8080/"
        },
        "outputId": "5911cae2-bd69-42d7-d668-e45497a40d3e"
      },
      "outputs": [
        {
          "output_type": "stream",
          "name": "stdout",
          "text": [
            "\n",
            "Sheet: X_train_knn_imp_wNA_dt_rfe\n",
            "\n",
            "Sheet: X_val_knn_imp_wNA_dt_rfe\n",
            "\n",
            "Sheet: test_df_knn_imp_wNA_dt_rfe\n",
            "\n",
            "Sheet: y_train\n",
            "\n",
            "Sheet: y_val\n"
          ]
        }
      ],
      "source": [
        "# Specify the path to your Excel file\n",
        "workbook_path = '/content/drive/MyDrive/Colab Notebooks/Insurance Dataset/Preprocessing_Checkpoint/knn_Impute_wNA_dt_rfe.xlsx'\n",
        "\n",
        "# Load the workbook\n",
        "wb = openpyxl.load_workbook(workbook_path)\n",
        "\n",
        "# Get sheet names\n",
        "sheet_names = wb.sheetnames\n",
        "\n",
        "# Container for DataFrames\n",
        "dfs = {}\n",
        "\n",
        "# Iterate through each sheet\n",
        "for sheet_name in sheet_names:\n",
        "    print(f\"\\nSheet: {sheet_name}\")\n",
        "    sheet = wb[sheet_name]\n",
        "\n",
        "    # Extract headers (first row)\n",
        "    headers = [cell.value for cell in sheet[1]]\n",
        "    # print(f\"Headers: {headers}\")\n",
        "\n",
        "    # Extract data rows\n",
        "    data = []\n",
        "    for row in sheet.iter_rows(min_row=2, values_only=True):\n",
        "        data.append(row)\n",
        "    # print(\"Data:\")\n",
        "    # for row in data:\n",
        "    #     print(row)\n",
        "\n",
        "    # Convert data to DataFrame\n",
        "    df = pd.DataFrame(data, columns=headers)\n",
        "    dfs[sheet_name] = df"
      ]
    },
    {
      "cell_type": "code",
      "execution_count": null,
      "metadata": {
        "id": "tuaI5x4prUxn",
        "colab": {
          "base_uri": "https://localhost:8080/"
        },
        "outputId": "77ca5405-8459-44b5-c538-cf04d15f014c"
      },
      "outputs": [
        {
          "output_type": "stream",
          "name": "stdout",
          "text": [
            "\n",
            "DataFrames:\n",
            "\n",
            "DataFrame: X_train_knn_imp_wNA_dt_rfe\n",
            "\n",
            "DataFrame: X_val_knn_imp_wNA_dt_rfe\n",
            "\n",
            "DataFrame: test_df_knn_imp_wNA_dt_rfe\n",
            "\n",
            "DataFrame: y_train\n",
            "\n",
            "DataFrame: y_val\n",
            "['X_train_knn_imp_wNA_dt_rfe', 'X_val_knn_imp_wNA_dt_rfe', 'test_df_knn_imp_wNA_dt_rfe', 'y_train', 'y_val']\n"
          ]
        }
      ],
      "source": [
        "# Access your DataFrames from the dictionary `dfs`\n",
        "print(\"\\nDataFrames:\")\n",
        "for name, df in dfs.items():\n",
        "    print(f\"\\nDataFrame: {name}\")\n",
        "    name = df\n",
        "\n",
        "print(sheet_names)"
      ]
    },
    {
      "cell_type": "code",
      "execution_count": null,
      "metadata": {
        "id": "pXYo-zt92_ii"
      },
      "outputs": [],
      "source": [
        "x_train, x_val, x_test, y_train, y_val = dfs.items()\n",
        "x_train_m = x_train[1]\n",
        "x_val_m = x_val[1]\n",
        "x_test_m = x_test[1]\n",
        "y_train_m = y_train[1]\n",
        "y_val_m = y_val[1]"
      ]
    },
    {
      "cell_type": "code",
      "execution_count": null,
      "metadata": {
        "id": "rec4PpvsN2HX"
      },
      "outputs": [],
      "source": [
        "x_train = x_train_m\n",
        "x_val = x_val_m\n",
        "x_test = x_test_m\n",
        "y_train = y_train_m\n",
        "y_val = y_val_m"
      ]
    },
    {
      "cell_type": "code",
      "execution_count": null,
      "metadata": {
        "id": "xvE3waWc2_lI",
        "colab": {
          "base_uri": "https://localhost:8080/"
        },
        "outputId": "da774c22-d99b-4071-f387-3c11b96e02a2"
      },
      "outputs": [
        {
          "output_type": "stream",
          "name": "stdout",
          "text": [
            "(47504, 200) (47504, 1)\n",
            "(11877, 200) (11877, 1)\n"
          ]
        }
      ],
      "source": [
        "print(x_train_m.shape, y_train_m.shape)\n",
        "print(x_val_m.shape, y_val_m.shape)\n"
      ]
    },
    {
      "cell_type": "code",
      "execution_count": null,
      "metadata": {
        "id": "FN0oy0ntlK7q",
        "colab": {
          "base_uri": "https://localhost:8080/"
        },
        "outputId": "1aff5bd6-eced-428b-9fa0-c6322a185f20"
      },
      "outputs": [
        {
          "output_type": "execute_result",
          "data": {
            "text/plain": [
              "None    8\n",
              "dtype: int64"
            ]
          },
          "metadata": {},
          "execution_count": 10
        }
      ],
      "source": [
        "y_train_m.max()"
      ]
    },
    {
      "cell_type": "code",
      "execution_count": null,
      "metadata": {
        "id": "AnmZQvwcDbzg",
        "colab": {
          "base_uri": "https://localhost:8080/"
        },
        "outputId": "6bc5aa5d-8372-4d94-ae37-09b51feb03e6"
      },
      "outputs": [
        {
          "output_type": "stream",
          "name": "stderr",
          "text": [
            "/usr/local/lib/python3.10/dist-packages/sklearn/preprocessing/_label.py:116: DataConversionWarning: A column-vector y was passed when a 1d array was expected. Please change the shape of y to (n_samples, ), for example using ravel().\n",
            "  y = column_or_1d(y, warn=True)\n",
            "/usr/local/lib/python3.10/dist-packages/sklearn/preprocessing/_label.py:134: DataConversionWarning: A column-vector y was passed when a 1d array was expected. Please change the shape of y to (n_samples, ), for example using ravel().\n",
            "  y = column_or_1d(y, dtype=self.classes_.dtype, warn=True)\n"
          ]
        }
      ],
      "source": [
        "label_encoder = LabelEncoder()\n",
        "y_train_encoded = label_encoder.fit_transform(y_train)\n",
        "y_val_encoded = label_encoder.transform(y_val)"
      ]
    },
    {
      "cell_type": "code",
      "execution_count": null,
      "metadata": {
        "id": "UWyPseJy2_nx"
      },
      "outputs": [],
      "source": [
        "xgb = XGBClassifier()"
      ]
    },
    {
      "cell_type": "markdown",
      "metadata": {
        "id": "wZoEBo7_Sos1"
      },
      "source": [
        "XGBoost"
      ]
    },
    {
      "cell_type": "code",
      "execution_count": null,
      "metadata": {
        "id": "066721U33wix",
        "colab": {
          "base_uri": "https://localhost:8080/"
        },
        "outputId": "c72a505a-ac94-4085-efe3-5bc9197f2ca0"
      },
      "outputs": [
        {
          "output_type": "stream",
          "name": "stdout",
          "text": [
            "Fitting 3 folds for each of 50 candidates, totalling 150 fits\n"
          ]
        },
        {
          "output_type": "stream",
          "name": "stderr",
          "text": [
            "/usr/local/lib/python3.10/dist-packages/joblib/externals/loky/backend/fork_exec.py:38: RuntimeWarning: os.fork() was called. os.fork() is incompatible with multithreaded code, and JAX is multithreaded, so this will likely lead to a deadlock.\n",
            "  pid = os.fork()\n",
            "/usr/local/lib/python3.10/dist-packages/joblib/externals/loky/backend/fork_exec.py:38: RuntimeWarning: os.fork() was called. os.fork() is incompatible with multithreaded code, and JAX is multithreaded, so this will likely lead to a deadlock.\n",
            "  pid = os.fork()\n",
            "/usr/local/lib/python3.10/dist-packages/joblib/externals/loky/process_executor.py:752: UserWarning: A worker stopped while some jobs were given to the executor. This can be caused by a too short worker timeout or by a memory leak.\n",
            "  warnings.warn(\n"
          ]
        },
        {
          "output_type": "stream",
          "name": "stdout",
          "text": [
            "Best parameters found: {'colsample_bytree': 0.7473544037332349, 'learning_rate': 0.21473859738014883, 'max_depth': 29, 'min_child_weight': 0, 'n_estimators': 630, 'subsample': 0.8439761626945282}\n",
            "Best cross-validation score: 0.5754884327274167\n",
            "Accuracy on validation set with best estimator: 0.5789\n",
            "Precision on validation set with best estimator: 0.5789\n",
            "Recall on validation set with best estimator: 0.5789\n"
          ]
        }
      ],
      "source": [
        "random_state = 42\n",
        "\n",
        "# Define the parameter distributions\n",
        "param_dist = {\n",
        "    'max_depth': randint(10, 40),  # XGBClassifier parameters\n",
        "    'min_child_weight': randint(0, 3),\n",
        "    'subsample': uniform(0.5, 0.4),\n",
        "    'colsample_bytree': uniform(0.5, 0.4),\n",
        "    'learning_rate': uniform(0.1, 0.3),\n",
        "    'n_estimators': randint(500, 1500)\n",
        "}\n",
        "\n",
        "\n",
        "xgb = XGBClassifier(objective='multi:softmax', num_class=8, n_jobs=-1)\n",
        "\n",
        "# Instantiate RandomizedSearchCV\n",
        "random_search = RandomizedSearchCV(estimator=xgb,\n",
        "                                   param_distributions=param_dist,\n",
        "                                   n_iter=50,  # Number of parameter settings that are sampled\n",
        "                                   scoring='accuracy',\n",
        "                                   cv=3,\n",
        "                                   verbose=1,\n",
        "                                   n_jobs=-1,\n",
        "                                   random_state=42)\n",
        "\n",
        "# Fit RandomizedSearchCV to the training data\n",
        "random_search.fit(x_train, y_train_encoded)\n",
        "\n",
        "# Print the best parameters and best score\n",
        "print(\"Best parameters found:\", random_search.best_params_)\n",
        "print(\"Best cross-validation score:\", random_search.best_score_)\n",
        "\n",
        "# Get the best estimator\n",
        "best_xgb_model = random_search.best_estimator_\n",
        "\n",
        "# Predict on validation set with the best estimator\n",
        "y_pred = best_xgb_model.predict(x_val)\n",
        "\n",
        "# Evaluate accuracy with the best estimator\n",
        "accuracy_best = accuracy_score(y_val_encoded, y_pred)\n",
        "print(f\"Accuracy on validation set with best estimator: {accuracy_best:.4f}\")\n",
        "\n",
        "# Evaluate precision with the best estimator\n",
        "precision_best = precision_score(y_val_encoded, y_pred, average='micro')\n",
        "print(f\"Precision on validation set with best estimator: {precision_best:.4f}\")\n",
        "\n",
        "# Evaluate precision with the best estimator\n",
        "recall_best = recall_score(y_val_encoded, y_pred, average='micro')\n",
        "print(f\"Recall on validation set with best estimator: {recall_best:.4f}\")"
      ]
    },
    {
      "cell_type": "markdown",
      "metadata": {
        "id": "SJaMbytvO0w2"
      },
      "source": [
        "Random Forest"
      ]
    },
    {
      "cell_type": "code",
      "execution_count": null,
      "metadata": {
        "id": "ja33RMFbOz3w",
        "colab": {
          "base_uri": "https://localhost:8080/"
        },
        "outputId": "669c9f5e-7bb5-4ab3-c725-d585139cf544"
      },
      "outputs": [
        {
          "output_type": "stream",
          "name": "stdout",
          "text": [
            "Fitting 3 folds for each of 50 candidates, totalling 150 fits\n"
          ]
        },
        {
          "output_type": "stream",
          "name": "stderr",
          "text": [
            "/usr/local/lib/python3.10/dist-packages/joblib/externals/loky/backend/fork_exec.py:38: RuntimeWarning: os.fork() was called. os.fork() is incompatible with multithreaded code, and JAX is multithreaded, so this will likely lead to a deadlock.\n",
            "  pid = os.fork()\n",
            "/usr/local/lib/python3.10/dist-packages/joblib/externals/loky/process_executor.py:752: UserWarning: A worker stopped while some jobs were given to the executor. This can be caused by a too short worker timeout or by a memory leak.\n",
            "  warnings.warn(\n",
            "/usr/local/lib/python3.10/dist-packages/sklearn/ensemble/_forest.py:424: FutureWarning: `max_features='auto'` has been deprecated in 1.1 and will be removed in 1.3. To keep the past behaviour, explicitly set `max_features='sqrt'` or remove this parameter as it is also the default value for RandomForestClassifiers and ExtraTreesClassifiers.\n",
            "  warn(\n"
          ]
        },
        {
          "output_type": "stream",
          "name": "stdout",
          "text": [
            "Best parameters found: {'n_estimators': 900, 'min_samples_split': 30, 'min_samples_leaf': 5, 'max_features': 'auto', 'max_depth': 20}\n",
            "Best cross-validation score: 0.5559321205587116\n",
            "Accuracy on validation set with best estimator: 0.5543\n",
            "Precision on validation set with best estimator: 0.5543\n",
            "Recall on validation set with best estimator: 0.5543\n"
          ]
        }
      ],
      "source": [
        "\n",
        "param_grid = {\n",
        "    'n_estimators': [900, 1100, 1300],\n",
        "    'max_depth': [10, 20, 30],\n",
        "    'min_samples_split': [30, 50],\n",
        "    'min_samples_leaf': [5, 10],\n",
        "    'max_features': ['auto', 'sqrt', 'log2']\n",
        "}\n",
        "\n",
        "\n",
        "random_forest = RandomForestClassifier(random_state=42)\n",
        "\n",
        "# Instantiate the RandomizedSearchCV object\n",
        "random_search = RandomizedSearchCV(estimator=random_forest,\n",
        "                                   param_distributions=param_grid,\n",
        "                                   n_iter=50,  # Number of parameter settings that are sampled\n",
        "                                   scoring='accuracy',\n",
        "                                   cv=3,\n",
        "                                   verbose=1,\n",
        "                                   n_jobs=-1,\n",
        "                                   random_state=42)\n",
        "\n",
        "# Fit RandomizedSearchCV to the training data\n",
        "random_search.fit(x_train, y_train_encoded)\n",
        "\n",
        "# Print the best parameters and best score\n",
        "print(\"Best parameters found:\", random_search.best_params_)\n",
        "print(\"Best cross-validation score:\", random_search.best_score_)\n",
        "\n",
        "# Get the best estimator\n",
        "best_rf_classifier = random_search.best_estimator_\n",
        "\n",
        "# Predict on the validation set with the best estimator\n",
        "y_pred_best = best_rf_classifier.predict(x_val)\n",
        "\n",
        "# Evaluate accuracy with the best estimator\n",
        "accuracy_best = accuracy_score(y_val_encoded, y_pred_best)\n",
        "print(f\"Accuracy on validation set with best estimator: {accuracy_best:.4f}\")\n",
        "\n",
        "# Evaluate precision with the best estimator\n",
        "precision_best = precision_score(y_val_encoded, y_pred_best, average='micro')\n",
        "print(f\"Precision on validation set with best estimator: {precision_best:.4f}\")\n",
        "\n",
        "# Evaluate precision with the best estimator\n",
        "recall_best = recall_score(y_val_encoded, y_pred_best, average='micro')\n",
        "print(f\"Recall on validation set with best estimator: {recall_best:.4f}\")"
      ]
    },
    {
      "cell_type": "code",
      "execution_count": null,
      "metadata": {
        "id": "TDWHLGsPx8X9",
        "colab": {
          "base_uri": "https://localhost:8080/"
        },
        "outputId": "801b6da6-c855-41b2-809d-80a75e1fbdca"
      },
      "outputs": [
        {
          "output_type": "stream",
          "name": "stdout",
          "text": [
            "Accuracy on validation set with best estimator: 0.5543\n",
            "Precision on validation set with best estimator: 0.5543\n"
          ]
        }
      ],
      "source": [
        "# Evaluate accuracy with the best estimator\n",
        "accuracy_best = accuracy_score(y_val_encoded, y_pred_best)\n",
        "print(f\"Accuracy on validation set with best estimator: {accuracy_best:.4f}\")\n",
        "\n",
        "# Evaluate precision with the best estimator\n",
        "precision_best = precision_score(y_val_encoded, y_pred_best, average='micro')\n",
        "print(f\"Precision on validation set with best estimator: {precision_best:.4f}\")"
      ]
    },
    {
      "cell_type": "markdown",
      "metadata": {
        "id": "H4DNdLwoaY_8"
      },
      "source": [
        "ANN/DNN"
      ]
    },
    {
      "cell_type": "code",
      "execution_count": null,
      "metadata": {
        "id": "TzIwpFLIyzsQ"
      },
      "outputs": [],
      "source": [
        "def build_model(hp):\n",
        "    input_dim = x_train.shape[1]  # Assuming x_train is defined outside this function\n",
        "\n",
        "    i_model = Sequential()\n",
        "    i_model.add(Dense(100, input_dim=input_dim, activation='linear'))\n",
        "\n",
        "    for each_layer in range(hp.Int(\"Dense Layers\", min_value=1, max_value=4)):\n",
        "        i_model.add(Dense(hp.Choice(f\"layer_{each_layer}_filters\", [30, 60, 90, 120]),\n",
        "        activation=hp.Choice(f\"layer_{each_layer}_activation\", ['relu', 'sigmoid', 'tanh', 'linear']),\n",
        "        kernel_regularizer=regularizers.l2(hp.Float(\"Regularizer_rate\", min_value=0, max_value=0.1))))\n",
        "        i_model.add(Dropout(rate=hp.Float(\"Dropout_rate\", min_value=0, max_value=0.5)))\n",
        "\n",
        "\n",
        "    i_model.add(Dense(8, activation='softmax'))\n",
        "\n",
        "    i_model.compile(optimizer=Adam(learning_rate=0.1),\n",
        "                    loss=sparse_categorical_crossentropy,\n",
        "                    metrics='accuracy')\n",
        "\n",
        "    return i_model"
      ]
    },
    {
      "cell_type": "code",
      "source": [
        "smote1 = SMOTE(sampling_strategy='not majority', random_state=42)\n",
        "x_train_resampled1, y_train_resampled1 = smote1.fit_resample(x_train, y_train_encoded)"
      ],
      "metadata": {
        "id": "7aElbnGG8zIC"
      },
      "execution_count": null,
      "outputs": []
    },
    {
      "cell_type": "code",
      "source": [
        "smote2 = SMOTE(sampling_strategy='minority', random_state=42)\n",
        "x_train_resampled2, y_train_resampled2 = smote2.fit_resample(x_train, y_train_encoded)"
      ],
      "metadata": {
        "id": "IgzrbK3s-bCX"
      },
      "execution_count": null,
      "outputs": []
    },
    {
      "cell_type": "code",
      "execution_count": null,
      "metadata": {
        "id": "50JfTtdHyxnZ",
        "colab": {
          "base_uri": "https://localhost:8080/"
        },
        "outputId": "2d5c6f40-8af2-4781-9edb-30f165941f4c"
      },
      "outputs": [
        {
          "output_type": "stream",
          "name": "stdout",
          "text": [
            "Trial 50 Complete [00h 04m 14s]\n",
            "accuracy: 0.23631694912910461\n",
            "\n",
            "Best accuracy So Far: 0.3208782374858856\n",
            "Total elapsed time: 04h 27m 24s\n"
          ]
        }
      ],
      "source": [
        "\n",
        "tuner = RandomSearch(build_model, objective='accuracy', max_trials=50)\n",
        "\n",
        "stop_early = keras.callbacks.EarlyStopping(monitor='val_loss', patience=4)\n",
        "\n",
        "tuner.search(x_train, y_train_encoded, validation_data=(x_val, y_val_encoded), epochs=40, batch_size=3, callbacks=[stop_early])\n",
        "\n"
      ]
    },
    {
      "cell_type": "code",
      "execution_count": null,
      "metadata": {
        "id": "d57CJpE9hglk",
        "colab": {
          "base_uri": "https://localhost:8080/"
        },
        "outputId": "7592f517-8670-4ace-f519-0be323ca8d24"
      },
      "outputs": [
        {
          "output_type": "stream",
          "name": "stdout",
          "text": [
            "Dense Layers: 3\n",
            "layer_0_filters: 30\n",
            "layer_0_activation: relu\n",
            "Regularizer_rate: 0.04182367483236413\n",
            "Dropout_rate: 0.4052864429702217\n",
            "layer_1_filters: 120\n",
            "layer_1_activation: sigmoid\n",
            "layer_2_filters: 120\n",
            "layer_2_activation: relu\n",
            "layer_3_filters: 90\n",
            "layer_3_activation: tanh\n"
          ]
        }
      ],
      "source": [
        "best_hps = tuner.get_best_hyperparameters(num_trials=1)[0]\n",
        "\n",
        "# Print each hyperparameter and its value\n",
        "for key, value in best_hps.values.items():\n",
        "    print(f\"{key}: {value}\")"
      ]
    },
    {
      "cell_type": "code",
      "execution_count": null,
      "metadata": {
        "id": "TKaqtUBoyvQ5"
      },
      "outputs": [],
      "source": [
        "# best_model = tuner.hypermodel.build(best_hps)\n",
        "\n",
        "# history = best_model.fit(x_train, y_train_encoded,\n",
        "#                          epochs=50,\n",
        "#                          batch_size=5,\n",
        "#                          validation_data=(x_val, y_val_encoded),\n",
        "#                          callbacks=[stop_early])\n",
        "\n",
        "# # Get the final number of epochs\n",
        "# final_epochs = len(history.history['loss'])\n",
        "# print(f\"Final number of epochs: {final_epochs}\")"
      ]
    },
    {
      "cell_type": "code",
      "execution_count": null,
      "metadata": {
        "id": "HCQ62Kpr7Lmg",
        "colab": {
          "base_uri": "https://localhost:8080/"
        },
        "outputId": "53af1ce3-2302-4316-f105-15873c0b6ac6"
      },
      "outputs": [
        {
          "output_type": "stream",
          "name": "stdout",
          "text": [
            "Best hyperparameters found: <keras_tuner.src.engine.hyperparameters.hyperparameters.HyperParameters object at 0x798b38125c90>\n",
            "Epoch 1/40\n",
            "3910/3910 [==============================] - 8s 2ms/step - loss: 2.3086 - accuracy: 0.1247 - val_loss: 2.1259 - val_accuracy: 0.1103\n",
            "Epoch 2/40\n",
            "3910/3910 [==============================] - 8s 2ms/step - loss: 2.0909 - accuracy: 0.1253 - val_loss: 2.0403 - val_accuracy: 0.3243\n",
            "Epoch 3/40\n",
            "3910/3910 [==============================] - 8s 2ms/step - loss: 2.0910 - accuracy: 0.1249 - val_loss: 2.1525 - val_accuracy: 0.0174\n",
            "Epoch 4/40\n",
            "3910/3910 [==============================] - 7s 2ms/step - loss: 2.0914 - accuracy: 0.1250 - val_loss: 2.0790 - val_accuracy: 0.1894\n",
            "Epoch 5/40\n",
            "3910/3910 [==============================] - 8s 2ms/step - loss: 2.0903 - accuracy: 0.1253 - val_loss: 2.1548 - val_accuracy: 0.0174\n",
            "Epoch 6/40\n",
            "3910/3910 [==============================] - 8s 2ms/step - loss: 2.0909 - accuracy: 0.1251 - val_loss: 2.1323 - val_accuracy: 0.0174\n",
            "dict_keys(['loss', 'accuracy', 'val_loss', 'val_accuracy'])\n"
          ]
        }
      ],
      "source": [
        "best_hps = tuner.get_best_hyperparameters(num_trials=1)[0]\n",
        "print(f\"Best hyperparameters found: {best_hps}\")\n",
        "\n",
        "# Build and train best model\n",
        "best_model = tuner.hypermodel.build(best_hps)\n",
        "history1 = best_model.fit(\n",
        "    x_train_resampled1,\n",
        "    y_train_resampled1,\n",
        "    validation_data=(x_val, y_val_encoded),\n",
        "    epochs=40,\n",
        "    batch_size=32,\n",
        "    verbose=1,  # Ensure verbosity is set appropriately\n",
        "    callbacks=[stop_early])\n",
        "\n",
        "# Access training history\n",
        "print(history1.history.keys())  # Print available metrics in history"
      ]
    },
    {
      "cell_type": "code",
      "execution_count": null,
      "metadata": {
        "id": "1NalFtxjstvj",
        "colab": {
          "base_uri": "https://localhost:8080/",
          "height": 465
        },
        "outputId": "7615e013-4f82-4c23-d6ea-93d18a42d514"
      },
      "outputs": [
        {
          "output_type": "execute_result",
          "data": {
            "text/plain": [
              "<Figure size 640x480 with 0 Axes>"
            ]
          },
          "metadata": {},
          "execution_count": 23
        },
        {
          "output_type": "display_data",
          "data": {
            "text/plain": [
              "<Figure size 640x480 with 1 Axes>"
            ],
            "image/png": "[encoded data removed]"
          },
          "metadata": {}
        },
        {
          "output_type": "display_data",
          "data": {
            "text/plain": [
              "<Figure size 640x480 with 0 Axes>"
            ]
          },
          "metadata": {}
        }
      ],
      "source": [
        "accuracy1 = history1.history['accuracy']\n",
        "val_accuracy1 = history1.history['val_accuracy']\n",
        "epochs_range1 = range(len(accuracy1))\n",
        "\n",
        "import matplotlib.pyplot as plt\n",
        "\n",
        "plt.plot(epochs_range1, accuracy1,'b',label='Train accuracy')\n",
        "plt.plot(epochs_range1, val_accuracy1,'r',label='Val accuracy')\n",
        "plt.legend()\n",
        "plt.figure()\n",
        "\n"
      ]
    },
    {
      "cell_type": "code",
      "execution_count": null,
      "metadata": {
        "id": "jWMUymEu8BSp",
        "colab": {
          "base_uri": "https://localhost:8080/"
        },
        "outputId": "a08be071-91f3-4bcb-9e04-01d409d19d64"
      },
      "outputs": [
        {
          "output_type": "stream",
          "name": "stdout",
          "text": [
            "372/372 [==============================] - 0s 979us/step\n",
            "Accuracy: 0.017428643596867896\n",
            "Precision: 0.017428643596867896\n",
            "Recall: 0.017428643596867896\n"
          ]
        }
      ],
      "source": [
        "# Assuming y_pred is obtained from best_model.predict(x_val)\n",
        "y_pred1 = best_model.predict(x_val)\n",
        "\n",
        "# Convert y_pred probabilities to integer labels\n",
        "y_pred_labels1 = np.argmax(y_pred1, axis=1)\n",
        "\n",
        "# Compute metrics with integer labels\n",
        "accuracy1 = accuracy_score(y_val_encoded, y_pred_labels1)\n",
        "print(f\"Accuracy: {accuracy1}\")\n",
        "\n",
        "precision1 = precision_score(y_val_encoded, y_pred_labels1, average='micro')\n",
        "print(f\"Precision: {precision1}\")\n",
        "\n",
        "recall1 = recall_score(y_val_encoded, y_pred_labels1, average='micro')\n",
        "print(f\"Recall: {recall1}\")"
      ]
    },
    {
      "cell_type": "code",
      "source": [],
      "metadata": {
        "id": "MNwZcE-JDUqc"
      },
      "execution_count": null,
      "outputs": []
    },
    {
      "cell_type": "code",
      "execution_count": null,
      "metadata": {
        "id": "7iq5AA5DDVef",
        "colab": {
          "base_uri": "https://localhost:8080/"
        },
        "outputId": "ba081a16-8aae-4007-fe8f-13a515004941"
      },
      "outputs": [
        {
          "output_type": "stream",
          "name": "stdout",
          "text": [
            "Best hyperparameters found: <keras_tuner.src.engine.hyperparameters.hyperparameters.HyperParameters object at 0x798b38125c90>\n",
            "Epoch 1/50\n",
            "1948/1948 [==============================] - 5s 2ms/step - loss: 2.2494 - accuracy: 0.2482 - val_loss: 2.0287 - val_accuracy: 0.3243\n",
            "Epoch 2/50\n",
            "1948/1948 [==============================] - 4s 2ms/step - loss: 1.8858 - accuracy: 0.2523 - val_loss: 2.0643 - val_accuracy: 0.3243\n",
            "Epoch 3/50\n",
            "1948/1948 [==============================] - 4s 2ms/step - loss: 1.8858 - accuracy: 0.2502 - val_loss: 2.0347 - val_accuracy: 0.1894\n",
            "Epoch 4/50\n",
            "1948/1948 [==============================] - 4s 2ms/step - loss: 1.8852 - accuracy: 0.2512 - val_loss: 2.0642 - val_accuracy: 0.3243\n",
            "Epoch 5/50\n",
            "1948/1948 [==============================] - 4s 2ms/step - loss: 1.8857 - accuracy: 0.2512 - val_loss: 2.0333 - val_accuracy: 0.3243\n",
            "dict_keys(['loss', 'accuracy', 'val_loss', 'val_accuracy'])\n"
          ]
        }
      ],
      "source": [
        "best_hps = tuner.get_best_hyperparameters(num_trials=1)[0]\n",
        "print(f\"Best hyperparameters found: {best_hps}\")\n",
        "\n",
        "# Build and train best model\n",
        "best_model = tuner.hypermodel.build(best_hps)\n",
        "history2 = best_model.fit(\n",
        "    x_train_resampled2,\n",
        "    y_train_resampled2,\n",
        "    validation_data=(x_val, y_val_encoded),\n",
        "    epochs=50,\n",
        "    batch_size=32,\n",
        "    verbose=1,  # Ensure verbosity is set appropriately\n",
        "    callbacks=[stop_early])\n",
        "\n",
        "# Access training history\n",
        "print(history2.history.keys())  # Print available metrics in history"
      ]
    },
    {
      "cell_type": "code",
      "source": [
        "accuracy2 = history2.history['accuracy']\n",
        "val_accuracy2 = history2.history['val_accuracy']\n",
        "epochs_range2 = range(len(accuracy2))\n",
        "\n",
        "import matplotlib.pyplot as plt\n",
        "\n",
        "plt.plot(epochs_range2, accuracy2,'b',label='Train accuracy')\n",
        "plt.plot(epochs_range2, val_accuracy2,'r',label='Val accuracy')\n",
        "plt.legend()\n",
        "plt.figure()"
      ],
      "metadata": {
        "id": "1Gz5DGFzDn3u",
        "colab": {
          "base_uri": "https://localhost:8080/",
          "height": 465
        },
        "outputId": "720e9801-9d8d-4761-c978-1ebc07887232"
      },
      "execution_count": null,
      "outputs": [
        {
          "output_type": "execute_result",
          "data": {
            "text/plain": [
              "<Figure size 640x480 with 0 Axes>"
            ]
          },
          "metadata": {},
          "execution_count": 26
        },
        {
          "output_type": "display_data",
          "data": {
            "text/plain": [
              "<Figure size 640x480 with 1 Axes>"
            ],
            "image/png": "[encoded data removed]"
          },
          "metadata": {}
        },
        {
          "output_type": "display_data",
          "data": {
            "text/plain": [
              "<Figure size 640x480 with 0 Axes>"
            ]
          },
          "metadata": {}
        }
      ]
    },
    {
      "cell_type": "code",
      "source": [
        "# Assuming y_pred is obtained from best_model.predict(x_val)\n",
        "y_pred2 = best_model.predict(x_val)\n",
        "\n",
        "# Convert y_pred probabilities to integer labels\n",
        "y_pred_labels2 = np.argmax(y_pred2, axis=1)\n",
        "\n",
        "# Compute metrics with integer labels\n",
        "accuracy2 = accuracy_score(y_val_encoded, y_pred_labels2)\n",
        "print(f\"Accuracy: {accuracy2}\")\n",
        "\n",
        "precision2 = precision_score(y_val_encoded, y_pred_labels2, average='micro')\n",
        "print(f\"Precision: {precision2}\")\n",
        "\n",
        "recall2 = recall_score(y_val_encoded, y_pred_labels2, average='micro')\n",
        "print(f\"Recall: {recall2}\")"
      ],
      "metadata": {
        "id": "GNEwIkfbEXNQ",
        "colab": {
          "base_uri": "https://localhost:8080/"
        },
        "outputId": "35a253f6-3085-47ec-e8f5-37b59df77515"
      },
      "execution_count": null,
      "outputs": [
        {
          "output_type": "stream",
          "name": "stdout",
          "text": [
            "372/372 [==============================] - 0s 992us/step\n",
            "Accuracy: 0.32432432432432434\n",
            "Precision: 0.32432432432432434\n",
            "Recall: 0.32432432432432434\n"
          ]
        }
      ]
    },
    {
      "cell_type": "code",
      "source": [],
      "metadata": {
        "id": "epmAqAXsE_Aq"
      },
      "execution_count": null,
      "outputs": []
    },
    {
      "cell_type": "code",
      "source": [
        "best_hps = tuner.get_best_hyperparameters(num_trials=1)[0]\n",
        "print(f\"Best hyperparameters found: {best_hps}\")\n",
        "\n",
        "# Build and train best model\n",
        "best_model = tuner.hypermodel.build(best_hps)\n",
        "history3 = best_model.fit(\n",
        "    x_train,\n",
        "    y_train_encoded,\n",
        "    validation_data=(x_val, y_val_encoded),\n",
        "    epochs=50,\n",
        "    batch_size=32,\n",
        "    verbose=1,  # Ensure verbosity is set appropriately\n",
        "    callbacks=[stop_early])\n",
        "\n",
        "# Access training history\n",
        "print(history3.history.keys())  # Print available metrics in history"
      ],
      "metadata": {
        "id": "frO-NvSpE_N4",
        "colab": {
          "base_uri": "https://localhost:8080/"
        },
        "outputId": "a4c8a93a-6dc1-493d-92a0-7c9bcaa84e9b"
      },
      "execution_count": null,
      "outputs": [
        {
          "output_type": "stream",
          "name": "stdout",
          "text": [
            "Best hyperparameters found: <keras_tuner.src.engine.hyperparameters.hyperparameters.HyperParameters object at 0x798b38125c90>\n",
            "Epoch 1/50\n",
            "1485/1485 [==============================] - 4s 2ms/step - loss: 2.3875 - accuracy: 0.3252 - val_loss: 1.8209 - val_accuracy: 0.3243\n",
            "Epoch 2/50\n",
            "1485/1485 [==============================] - 3s 2ms/step - loss: 1.8179 - accuracy: 0.3285 - val_loss: 1.8213 - val_accuracy: 0.3243\n",
            "Epoch 3/50\n",
            "1485/1485 [==============================] - 3s 2ms/step - loss: 1.8170 - accuracy: 0.3292 - val_loss: 1.8187 - val_accuracy: 0.3243\n",
            "Epoch 4/50\n",
            "1485/1485 [==============================] - 3s 2ms/step - loss: 1.8163 - accuracy: 0.3292 - val_loss: 1.8204 - val_accuracy: 0.3243\n",
            "Epoch 5/50\n",
            "1485/1485 [==============================] - 3s 2ms/step - loss: 1.8176 - accuracy: 0.3284 - val_loss: 1.8312 - val_accuracy: 0.3243\n",
            "Epoch 6/50\n",
            "1485/1485 [==============================] - 3s 2ms/step - loss: 1.8183 - accuracy: 0.3285 - val_loss: 1.8196 - val_accuracy: 0.3243\n",
            "Epoch 7/50\n",
            "1485/1485 [==============================] - 3s 2ms/step - loss: 1.8167 - accuracy: 0.3286 - val_loss: 1.8168 - val_accuracy: 0.3243\n",
            "Epoch 8/50\n",
            "1485/1485 [==============================] - 3s 2ms/step - loss: 1.8177 - accuracy: 0.3292 - val_loss: 1.8220 - val_accuracy: 0.3243\n",
            "Epoch 9/50\n",
            "1485/1485 [==============================] - 3s 2ms/step - loss: 1.8185 - accuracy: 0.3287 - val_loss: 1.8196 - val_accuracy: 0.3243\n",
            "Epoch 10/50\n",
            "1485/1485 [==============================] - 4s 3ms/step - loss: 1.8166 - accuracy: 0.3292 - val_loss: 1.8187 - val_accuracy: 0.3243\n",
            "Epoch 11/50\n",
            "1485/1485 [==============================] - 3s 2ms/step - loss: 1.8170 - accuracy: 0.3292 - val_loss: 1.8227 - val_accuracy: 0.3243\n",
            "dict_keys(['loss', 'accuracy', 'val_loss', 'val_accuracy'])\n"
          ]
        }
      ]
    },
    {
      "cell_type": "code",
      "source": [
        "accuracy3 = history3.history['accuracy']\n",
        "val_accuracy3 = history3.history['val_accuracy']\n",
        "epochs_range3 = range(len(accuracy3))\n",
        "\n",
        "import matplotlib.pyplot as plt\n",
        "\n",
        "plt.plot(epochs_range3, accuracy3,'b',label='Train accuracy')\n",
        "plt.plot(epochs_range3, val_accuracy3,'r',label='Val accuracy')\n",
        "plt.legend()\n",
        "plt.figure()"
      ],
      "metadata": {
        "id": "U5Kj5YspFXS7",
        "colab": {
          "base_uri": "https://localhost:8080/",
          "height": 465
        },
        "outputId": "94673e82-1639-4e00-e36a-52dd17408daa"
      },
      "execution_count": null,
      "outputs": [
        {
          "output_type": "execute_result",
          "data": {
            "text/plain": [
              "<Figure size 640x480 with 0 Axes>"
            ]
          },
          "metadata": {},
          "execution_count": 29
        },
        {
          "output_type": "display_data",
          "data": {
            "text/plain": [
              "<Figure size 640x480 with 1 Axes>"
            ],
            "image/png": "[encoded data removed]"
          },
          "metadata": {}
        },
        {
          "output_type": "display_data",
          "data": {
            "text/plain": [
              "<Figure size 640x480 with 0 Axes>"
            ]
          },
          "metadata": {}
        }
      ]
    },
    {
      "cell_type": "code",
      "source": [
        "# Assuming y_pred is obtained from best_model.predict(x_val)\n",
        "y_pred3 = best_model.predict(x_val)\n",
        "\n",
        "# Convert y_pred probabilities to integer labels\n",
        "y_pred_labels3 = np.argmax(y_pred3, axis=1)\n",
        "\n",
        "# Compute metrics with integer labels\n",
        "accuracy3 = accuracy_score(y_val_encoded, y_pred_labels3)\n",
        "print(f\"Accuracy: {accuracy3}\")\n",
        "\n",
        "precision3 = precision_score(y_val_encoded, y_pred_labels3, average='micro')\n",
        "print(f\"Precision: {precision2}\")\n",
        "\n",
        "recall3 = recall_score(y_val_encoded, y_pred_labels3, average='micro')\n",
        "print(f\"Recall: {recall2}\")"
      ],
      "metadata": {
        "id": "wR_frgV7FdQm",
        "colab": {
          "base_uri": "https://localhost:8080/"
        },
        "outputId": "47d6230c-82aa-41c8-fbd4-9cfa511eeac1"
      },
      "execution_count": null,
      "outputs": [
        {
          "output_type": "stream",
          "name": "stdout",
          "text": [
            "372/372 [==============================] - 0s 969us/step\n",
            "Accuracy: 0.32432432432432434\n",
            "Precision: 0.32432432432432434\n",
            "Recall: 0.32432432432432434\n"
          ]
        }
      ]
    }
  ],
  "metadata": {
    "colab": {
      "machine_shape": "hm",
      "provenance": [],
      "mount_file_id": "1lSz9j_gXZ0m7HP7tJVfRUXL19g0fMbGm",
      "authorship_tag": "ABX9TyMWuVSEPmGwymjBXAnxMpUT",
      "include_colab_link": true
    },
    "kernelspec": {
      "display_name": "Python 3",
      "name": "python3"
    },
    "language_info": {
      "name": "python"
    }
  },
  "nbformat": 4,
  "nbformat_minor": 0
}